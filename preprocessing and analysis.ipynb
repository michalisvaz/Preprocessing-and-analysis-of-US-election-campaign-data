{
 "cells": [
  {
   "cell_type": "markdown",
   "metadata": {
    "slideshow": {
     "slide_type": "slide"
    }
   },
   "source": [
    "# 1st Project in Applied Machine Learning\n",
    "\n",
    "\n",
    "> Michail Vazaios <br />\n",
    "> p3170013 <br />\n",
    "> Email: mich.vaz.99@gmail.com <br />"
   ]
  },
  {
   "cell_type": "markdown",
   "metadata": {
    "slideshow": {
     "slide_type": "slide"
    }
   },
   "source": [
    "# Notes\n",
    "\n",
    "* For some pieces of the code to run and give results you need to download some data from https://www.fec.gov/data/browse-data/?tab=bulk-data and put them in a folder named 'data' in the same directory where the .ipynb files are. \n",
    "\n",
    "* For some other pieces of code to run and give results you need to have a connection to the internet when you are running the code, since some files are read directly from a website."
   ]
  },
  {
   "cell_type": "markdown",
   "metadata": {
    "slideshow": {
     "slide_type": "slide"
    }
   },
   "source": [
    " * First we import some modules we will need afterwards"
   ]
  },
  {
   "cell_type": "code",
   "execution_count": 1,
   "metadata": {
    "slideshow": {
     "slide_type": "fragment"
    }
   },
   "outputs": [],
   "source": [
    "import pandas as pd\n",
    "import numpy as np"
   ]
  },
  {
   "cell_type": "markdown",
   "metadata": {
    "slideshow": {
     "slide_type": "fragment"
    }
   },
   "source": [
    "## Question 1\n",
    "\n",
    "**Identify the top 5 Political Action Committees (PACs), or rather, super-PACs, that supported each of the two presidential candidates, giving the amount of money raised and spent by each one of them.** \n",
    "\n",
    "* We will use the information found under \"Contributions from committees to candidates & independent expenditures\".\n",
    "* To understand what we are reading, we need to also read the separate header file."
   ]
  },
  {
   "cell_type": "code",
   "execution_count": 2,
   "metadata": {},
   "outputs": [
    {
     "name": "stderr",
     "output_type": "stream",
     "text": [
      "c:\\users\\michv\\appdata\\local\\programs\\python\\python37\\lib\\site-packages\\IPython\\core\\interactiveshell.py:3146: DtypeWarning: Columns (10,11,12,19,20) have mixed types.Specify dtype option on import or set low_memory=False.\n",
      "  interactivity=interactivity, compiler=compiler, result=result)\n"
     ]
    },
    {
     "data": {
      "text/html": [
       "<div>\n",
       "<style scoped>\n",
       "    .dataframe tbody tr th:only-of-type {\n",
       "        vertical-align: middle;\n",
       "    }\n",
       "\n",
       "    .dataframe tbody tr th {\n",
       "        vertical-align: top;\n",
       "    }\n",
       "\n",
       "    .dataframe thead th {\n",
       "        text-align: right;\n",
       "    }\n",
       "</style>\n",
       "<table border=\"1\" class=\"dataframe\">\n",
       "  <thead>\n",
       "    <tr style=\"text-align: right;\">\n",
       "      <th></th>\n",
       "      <th>CMTE_ID</th>\n",
       "      <th>AMNDT_IND</th>\n",
       "      <th>RPT_TP</th>\n",
       "      <th>TRANSACTION_PGI</th>\n",
       "      <th>IMAGE_NUM</th>\n",
       "      <th>TRANSACTION_TP</th>\n",
       "      <th>ENTITY_TP</th>\n",
       "      <th>NAME</th>\n",
       "      <th>CITY</th>\n",
       "      <th>STATE</th>\n",
       "      <th>...</th>\n",
       "      <th>OCCUPATION</th>\n",
       "      <th>TRANSACTION_DT</th>\n",
       "      <th>TRANSACTION_AMT</th>\n",
       "      <th>OTHER_ID</th>\n",
       "      <th>CAND_ID</th>\n",
       "      <th>TRAN_ID</th>\n",
       "      <th>FILE_NUM</th>\n",
       "      <th>MEMO_CD</th>\n",
       "      <th>MEMO_TEXT</th>\n",
       "      <th>SUB_ID</th>\n",
       "    </tr>\n",
       "  </thead>\n",
       "  <tbody>\n",
       "    <tr>\n",
       "      <th>0</th>\n",
       "      <td>C00548198</td>\n",
       "      <td>N</td>\n",
       "      <td>M3</td>\n",
       "      <td>G2016</td>\n",
       "      <td>15950887602</td>\n",
       "      <td>24K</td>\n",
       "      <td>CCM</td>\n",
       "      <td>BLAINE FOR CONGRESS</td>\n",
       "      <td>JEFFERSON CITY</td>\n",
       "      <td>MO</td>\n",
       "      <td>...</td>\n",
       "      <td>NaN</td>\n",
       "      <td>02102015</td>\n",
       "      <td>2500</td>\n",
       "      <td>C00458679</td>\n",
       "      <td>H8MO09153</td>\n",
       "      <td>6783511</td>\n",
       "      <td>998835</td>\n",
       "      <td>NaN</td>\n",
       "      <td>NaN</td>\n",
       "      <td>4032020151240895091</td>\n",
       "    </tr>\n",
       "    <tr>\n",
       "      <th>1</th>\n",
       "      <td>C00548198</td>\n",
       "      <td>N</td>\n",
       "      <td>M3</td>\n",
       "      <td>G2016</td>\n",
       "      <td>15950887602</td>\n",
       "      <td>24K</td>\n",
       "      <td>CCM</td>\n",
       "      <td>KEVIN MCCARTHY FOR CONGRESS</td>\n",
       "      <td>BAKERSFIELD</td>\n",
       "      <td>CA</td>\n",
       "      <td>...</td>\n",
       "      <td>NaN</td>\n",
       "      <td>02112015</td>\n",
       "      <td>1000</td>\n",
       "      <td>C00420935</td>\n",
       "      <td>H6CA22125</td>\n",
       "      <td>6788487</td>\n",
       "      <td>998835</td>\n",
       "      <td>NaN</td>\n",
       "      <td>NaN</td>\n",
       "      <td>4032020151240895092</td>\n",
       "    </tr>\n",
       "    <tr>\n",
       "      <th>2</th>\n",
       "      <td>C00235739</td>\n",
       "      <td>N</td>\n",
       "      <td>M3</td>\n",
       "      <td>P2014</td>\n",
       "      <td>15950887798</td>\n",
       "      <td>24K</td>\n",
       "      <td>CCM</td>\n",
       "      <td>DAN NEWHOUSE FOR CONGRESS</td>\n",
       "      <td>YAKIMA</td>\n",
       "      <td>WA</td>\n",
       "      <td>...</td>\n",
       "      <td>NaN</td>\n",
       "      <td>02052015</td>\n",
       "      <td>2500</td>\n",
       "      <td>C00559393</td>\n",
       "      <td>H4WA04104</td>\n",
       "      <td>B544444</td>\n",
       "      <td>998836</td>\n",
       "      <td>NaN</td>\n",
       "      <td>NaN</td>\n",
       "      <td>4032020151240895118</td>\n",
       "    </tr>\n",
       "    <tr>\n",
       "      <th>3</th>\n",
       "      <td>C00235739</td>\n",
       "      <td>N</td>\n",
       "      <td>M3</td>\n",
       "      <td>P2016</td>\n",
       "      <td>15950887799</td>\n",
       "      <td>24K</td>\n",
       "      <td>CCM</td>\n",
       "      <td>CATHY MCMORRIS RODGERS FOR CONGRESS</td>\n",
       "      <td>SPOKANE</td>\n",
       "      <td>WA</td>\n",
       "      <td>...</td>\n",
       "      <td>NaN</td>\n",
       "      <td>02182015</td>\n",
       "      <td>1000</td>\n",
       "      <td>C00390476</td>\n",
       "      <td>H4WA05077</td>\n",
       "      <td>B544838</td>\n",
       "      <td>998836</td>\n",
       "      <td>NaN</td>\n",
       "      <td>NaN</td>\n",
       "      <td>4032020151240895120</td>\n",
       "    </tr>\n",
       "    <tr>\n",
       "      <th>4</th>\n",
       "      <td>C00235739</td>\n",
       "      <td>N</td>\n",
       "      <td>M3</td>\n",
       "      <td>G2018</td>\n",
       "      <td>15950887799</td>\n",
       "      <td>24K</td>\n",
       "      <td>CCM</td>\n",
       "      <td>MANCHIN FOR WEST VIRGINIA</td>\n",
       "      <td>WASHINGTON</td>\n",
       "      <td>DC</td>\n",
       "      <td>...</td>\n",
       "      <td>NaN</td>\n",
       "      <td>02052015</td>\n",
       "      <td>1000</td>\n",
       "      <td>C00486563</td>\n",
       "      <td>S0WV00090</td>\n",
       "      <td>B544441</td>\n",
       "      <td>998836</td>\n",
       "      <td>NaN</td>\n",
       "      <td>NaN</td>\n",
       "      <td>4032020151240895121</td>\n",
       "    </tr>\n",
       "  </tbody>\n",
       "</table>\n",
       "<p>5 rows × 22 columns</p>\n",
       "</div>"
      ],
      "text/plain": [
       "     CMTE_ID AMNDT_IND RPT_TP TRANSACTION_PGI    IMAGE_NUM TRANSACTION_TP  \\\n",
       "0  C00548198         N     M3           G2016  15950887602            24K   \n",
       "1  C00548198         N     M3           G2016  15950887602            24K   \n",
       "2  C00235739         N     M3           P2014  15950887798            24K   \n",
       "3  C00235739         N     M3           P2016  15950887799            24K   \n",
       "4  C00235739         N     M3           G2018  15950887799            24K   \n",
       "\n",
       "  ENTITY_TP                                 NAME            CITY STATE  ...  \\\n",
       "0       CCM                  BLAINE FOR CONGRESS  JEFFERSON CITY    MO  ...   \n",
       "1       CCM          KEVIN MCCARTHY FOR CONGRESS     BAKERSFIELD    CA  ...   \n",
       "2       CCM            DAN NEWHOUSE FOR CONGRESS          YAKIMA    WA  ...   \n",
       "3       CCM  CATHY MCMORRIS RODGERS FOR CONGRESS         SPOKANE    WA  ...   \n",
       "4       CCM            MANCHIN FOR WEST VIRGINIA      WASHINGTON    DC  ...   \n",
       "\n",
       "  OCCUPATION TRANSACTION_DT TRANSACTION_AMT   OTHER_ID    CAND_ID  TRAN_ID  \\\n",
       "0        NaN       02102015            2500  C00458679  H8MO09153  6783511   \n",
       "1        NaN       02112015            1000  C00420935  H6CA22125  6788487   \n",
       "2        NaN       02052015            2500  C00559393  H4WA04104  B544444   \n",
       "3        NaN       02182015            1000  C00390476  H4WA05077  B544838   \n",
       "4        NaN       02052015            1000  C00486563  S0WV00090  B544441   \n",
       "\n",
       "  FILE_NUM MEMO_CD  MEMO_TEXT               SUB_ID  \n",
       "0   998835     NaN        NaN  4032020151240895091  \n",
       "1   998835     NaN        NaN  4032020151240895092  \n",
       "2   998836     NaN        NaN  4032020151240895118  \n",
       "3   998836     NaN        NaN  4032020151240895120  \n",
       "4   998836     NaN        NaN  4032020151240895121  \n",
       "\n",
       "[5 rows x 22 columns]"
      ]
     },
     "execution_count": 2,
     "metadata": {},
     "output_type": "execute_result"
    }
   ],
   "source": [
    "pac_contr_headers_df = pd.read_csv('https://www.fec.gov/files/bulk-downloads/data_dictionaries/pas2_header_file.csv')\n",
    "pac_contr_headers = pac_contr_headers_df.columns.tolist()\n",
    "fec_pac_contr =  pd.read_csv('data/itpas2.txt', sep=\"|\", index_col=False, names=pac_contr_headers, parse_dates = [\"TRANSACTION_DT\"])\n",
    "fec_pac_contr.head(5)"
   ]
  },
  {
   "cell_type": "markdown",
   "metadata": {},
   "source": [
    "* To be able to understand which donation goes to which candidate, we need to read the file with the candidates ('Candidate master' data) and since this file doesn't have headers we need to read the headers too (like with the previous data we read)"
   ]
  },
  {
   "cell_type": "code",
   "execution_count": 3,
   "metadata": {},
   "outputs": [
    {
     "data": {
      "text/html": [
       "<div>\n",
       "<style scoped>\n",
       "    .dataframe tbody tr th:only-of-type {\n",
       "        vertical-align: middle;\n",
       "    }\n",
       "\n",
       "    .dataframe tbody tr th {\n",
       "        vertical-align: top;\n",
       "    }\n",
       "\n",
       "    .dataframe thead th {\n",
       "        text-align: right;\n",
       "    }\n",
       "</style>\n",
       "<table border=\"1\" class=\"dataframe\">\n",
       "  <thead>\n",
       "    <tr style=\"text-align: right;\">\n",
       "      <th></th>\n",
       "      <th>CAND_ID</th>\n",
       "      <th>CAND_NAME</th>\n",
       "      <th>CAND_PTY_AFFILIATION</th>\n",
       "      <th>CAND_ELECTION_YR</th>\n",
       "      <th>CAND_OFFICE_ST</th>\n",
       "      <th>CAND_OFFICE</th>\n",
       "      <th>CAND_OFFICE_DISTRICT</th>\n",
       "      <th>CAND_ICI</th>\n",
       "      <th>CAND_STATUS</th>\n",
       "      <th>CAND_PCC</th>\n",
       "      <th>CAND_ST1</th>\n",
       "      <th>CAND_ST2</th>\n",
       "      <th>CAND_CITY</th>\n",
       "      <th>CAND_ST</th>\n",
       "      <th>CAND_ZIP</th>\n",
       "    </tr>\n",
       "  </thead>\n",
       "  <tbody>\n",
       "    <tr>\n",
       "      <th>0</th>\n",
       "      <td>H0AK00097</td>\n",
       "      <td>COX, JOHN R.</td>\n",
       "      <td>REP</td>\n",
       "      <td>2014</td>\n",
       "      <td>AK</td>\n",
       "      <td>H</td>\n",
       "      <td>0.0</td>\n",
       "      <td>C</td>\n",
       "      <td>N</td>\n",
       "      <td>C00525261</td>\n",
       "      <td>P.O. BOX 1092</td>\n",
       "      <td>NaN</td>\n",
       "      <td>ANCHOR POINT</td>\n",
       "      <td>AK</td>\n",
       "      <td>99556.0</td>\n",
       "    </tr>\n",
       "    <tr>\n",
       "      <th>1</th>\n",
       "      <td>H0AL02087</td>\n",
       "      <td>ROBY, MARTHA</td>\n",
       "      <td>REP</td>\n",
       "      <td>2016</td>\n",
       "      <td>AL</td>\n",
       "      <td>H</td>\n",
       "      <td>2.0</td>\n",
       "      <td>I</td>\n",
       "      <td>C</td>\n",
       "      <td>C00462143</td>\n",
       "      <td>PO BOX 195</td>\n",
       "      <td>NaN</td>\n",
       "      <td>MONTGOMERY</td>\n",
       "      <td>AL</td>\n",
       "      <td>36101.0</td>\n",
       "    </tr>\n",
       "    <tr>\n",
       "      <th>2</th>\n",
       "      <td>H0AL02095</td>\n",
       "      <td>JOHN, ROBERT E JR</td>\n",
       "      <td>IND</td>\n",
       "      <td>2016</td>\n",
       "      <td>AL</td>\n",
       "      <td>H</td>\n",
       "      <td>2.0</td>\n",
       "      <td>C</td>\n",
       "      <td>N</td>\n",
       "      <td>NaN</td>\n",
       "      <td>1465 W OVERBROOK RD</td>\n",
       "      <td>NaN</td>\n",
       "      <td>MILLBROOK</td>\n",
       "      <td>AL</td>\n",
       "      <td>36054.0</td>\n",
       "    </tr>\n",
       "    <tr>\n",
       "      <th>3</th>\n",
       "      <td>H0AL05049</td>\n",
       "      <td>CRAMER, ROBERT E \"BUD\" JR</td>\n",
       "      <td>DEM</td>\n",
       "      <td>2008</td>\n",
       "      <td>AL</td>\n",
       "      <td>H</td>\n",
       "      <td>5.0</td>\n",
       "      <td>NaN</td>\n",
       "      <td>P</td>\n",
       "      <td>C00239038</td>\n",
       "      <td>PO BOX 2621</td>\n",
       "      <td>NaN</td>\n",
       "      <td>HUNTSVILLE</td>\n",
       "      <td>AL</td>\n",
       "      <td>35804.0</td>\n",
       "    </tr>\n",
       "    <tr>\n",
       "      <th>4</th>\n",
       "      <td>H0AL05163</td>\n",
       "      <td>BROOKS, MO</td>\n",
       "      <td>REP</td>\n",
       "      <td>2016</td>\n",
       "      <td>AL</td>\n",
       "      <td>H</td>\n",
       "      <td>5.0</td>\n",
       "      <td>I</td>\n",
       "      <td>C</td>\n",
       "      <td>C00464149</td>\n",
       "      <td>7610 FOXFIRE DRIVE</td>\n",
       "      <td>NaN</td>\n",
       "      <td>HUNTSVILLE</td>\n",
       "      <td>AL</td>\n",
       "      <td>35802.0</td>\n",
       "    </tr>\n",
       "  </tbody>\n",
       "</table>\n",
       "</div>"
      ],
      "text/plain": [
       "     CAND_ID                  CAND_NAME CAND_PTY_AFFILIATION  \\\n",
       "0  H0AK00097               COX, JOHN R.                  REP   \n",
       "1  H0AL02087               ROBY, MARTHA                  REP   \n",
       "2  H0AL02095          JOHN, ROBERT E JR                  IND   \n",
       "3  H0AL05049  CRAMER, ROBERT E \"BUD\" JR                  DEM   \n",
       "4  H0AL05163                 BROOKS, MO                  REP   \n",
       "\n",
       "   CAND_ELECTION_YR CAND_OFFICE_ST CAND_OFFICE  CAND_OFFICE_DISTRICT CAND_ICI  \\\n",
       "0              2014             AK           H                   0.0        C   \n",
       "1              2016             AL           H                   2.0        I   \n",
       "2              2016             AL           H                   2.0        C   \n",
       "3              2008             AL           H                   5.0      NaN   \n",
       "4              2016             AL           H                   5.0        I   \n",
       "\n",
       "  CAND_STATUS   CAND_PCC             CAND_ST1 CAND_ST2     CAND_CITY CAND_ST  \\\n",
       "0           N  C00525261       P.O. BOX 1092       NaN  ANCHOR POINT      AK   \n",
       "1           C  C00462143           PO BOX 195      NaN    MONTGOMERY      AL   \n",
       "2           N        NaN  1465 W OVERBROOK RD      NaN     MILLBROOK      AL   \n",
       "3           P  C00239038          PO BOX 2621      NaN    HUNTSVILLE      AL   \n",
       "4           C  C00464149   7610 FOXFIRE DRIVE      NaN    HUNTSVILLE      AL   \n",
       "\n",
       "   CAND_ZIP  \n",
       "0   99556.0  \n",
       "1   36101.0  \n",
       "2   36054.0  \n",
       "3   35804.0  \n",
       "4   35802.0  "
      ]
     },
     "execution_count": 3,
     "metadata": {},
     "output_type": "execute_result"
    }
   ],
   "source": [
    "cand_headers_df = pd.read_csv('https://www.fec.gov/files/bulk-downloads/data_dictionaries/cn_header_file.csv')\n",
    "cand_headers = cand_headers_df.columns.tolist()\n",
    "fec_cands = pd.read_csv('data/cn.txt', sep=\"|\", index_col=False, names=cand_headers)\n",
    "fec_cands.head(5)"
   ]
  },
  {
   "cell_type": "markdown",
   "metadata": {},
   "source": [
    "* Since we care only about the candidates for the presidential elections of 2016, we'll filter the information we have about the candidates."
   ]
  },
  {
   "cell_type": "code",
   "execution_count": 4,
   "metadata": {},
   "outputs": [],
   "source": [
    "fec_cands = fec_cands.loc[(fec_cands['CAND_ELECTION_YR'] == 2016) & \n",
    "                          (fec_cands['CAND_OFFICE'] == 'P') &\n",
    "                          (fec_cands['CAND_STATUS'] == 'C')]"
   ]
  },
  {
   "cell_type": "markdown",
   "metadata": {},
   "source": [
    "* We also need to have information about the PACs (at least the names) and not just the code of each PAC, so we will read this information as well. We will use the 'Commitee master' data. As we did before we also need to read the header file as well."
   ]
  },
  {
   "cell_type": "code",
   "execution_count": 5,
   "metadata": {},
   "outputs": [
    {
     "data": {
      "text/html": [
       "<div>\n",
       "<style scoped>\n",
       "    .dataframe tbody tr th:only-of-type {\n",
       "        vertical-align: middle;\n",
       "    }\n",
       "\n",
       "    .dataframe tbody tr th {\n",
       "        vertical-align: top;\n",
       "    }\n",
       "\n",
       "    .dataframe thead th {\n",
       "        text-align: right;\n",
       "    }\n",
       "</style>\n",
       "<table border=\"1\" class=\"dataframe\">\n",
       "  <thead>\n",
       "    <tr style=\"text-align: right;\">\n",
       "      <th></th>\n",
       "      <th>CMTE_ID</th>\n",
       "      <th>CMTE_NM</th>\n",
       "      <th>TRES_NM</th>\n",
       "      <th>CMTE_ST1</th>\n",
       "      <th>CMTE_ST2</th>\n",
       "      <th>CMTE_CITY</th>\n",
       "      <th>CMTE_ST</th>\n",
       "      <th>CMTE_ZIP</th>\n",
       "      <th>CMTE_DSGN</th>\n",
       "      <th>CMTE_TP</th>\n",
       "      <th>CMTE_PTY_AFFILIATION</th>\n",
       "      <th>CMTE_FILING_FREQ</th>\n",
       "      <th>ORG_TP</th>\n",
       "      <th>CONNECTED_ORG_NM</th>\n",
       "      <th>CAND_ID</th>\n",
       "    </tr>\n",
       "  </thead>\n",
       "  <tbody>\n",
       "    <tr>\n",
       "      <th>0</th>\n",
       "      <td>C00000059</td>\n",
       "      <td>HALLMARK CARDS PAC</td>\n",
       "      <td>ERIN BROWER</td>\n",
       "      <td>2501 MCGEE</td>\n",
       "      <td>MD#288</td>\n",
       "      <td>KANSAS CITY</td>\n",
       "      <td>MO</td>\n",
       "      <td>64108</td>\n",
       "      <td>U</td>\n",
       "      <td>Q</td>\n",
       "      <td>UNK</td>\n",
       "      <td>M</td>\n",
       "      <td>C</td>\n",
       "      <td>NaN</td>\n",
       "      <td>NaN</td>\n",
       "    </tr>\n",
       "    <tr>\n",
       "      <th>1</th>\n",
       "      <td>C00000422</td>\n",
       "      <td>AMERICAN MEDICAL ASSOCIATION POLITICAL ACTION ...</td>\n",
       "      <td>WALKER, KEVIN</td>\n",
       "      <td>25 MASSACHUSETTS AVE, NW</td>\n",
       "      <td>SUITE 600</td>\n",
       "      <td>WASHINGTON</td>\n",
       "      <td>DC</td>\n",
       "      <td>20001</td>\n",
       "      <td>B</td>\n",
       "      <td>Q</td>\n",
       "      <td>NaN</td>\n",
       "      <td>M</td>\n",
       "      <td>M</td>\n",
       "      <td>AMERICAN MEDICAL ASSOCIATION</td>\n",
       "      <td>NaN</td>\n",
       "    </tr>\n",
       "    <tr>\n",
       "      <th>2</th>\n",
       "      <td>C00000489</td>\n",
       "      <td>D R I V E POLITICAL FUND CHAPTER 886</td>\n",
       "      <td>TOM RITTER</td>\n",
       "      <td>3528 W RENO</td>\n",
       "      <td>NaN</td>\n",
       "      <td>OKLAHOMA CITY</td>\n",
       "      <td>OK</td>\n",
       "      <td>73107</td>\n",
       "      <td>U</td>\n",
       "      <td>N</td>\n",
       "      <td>NaN</td>\n",
       "      <td>Q</td>\n",
       "      <td>L</td>\n",
       "      <td>TEAMSTERS LOCAL UNION 886</td>\n",
       "      <td>NaN</td>\n",
       "    </tr>\n",
       "    <tr>\n",
       "      <th>3</th>\n",
       "      <td>C00000547</td>\n",
       "      <td>KANSAS MEDICAL SOCIETY POLITICAL ACTION COMMITTEE</td>\n",
       "      <td>C. RICHARD BONEBRAKE, M.D.</td>\n",
       "      <td>623 SW 10TH AVE</td>\n",
       "      <td>NaN</td>\n",
       "      <td>TOPEKA</td>\n",
       "      <td>KS</td>\n",
       "      <td>66612</td>\n",
       "      <td>U</td>\n",
       "      <td>Q</td>\n",
       "      <td>UNK</td>\n",
       "      <td>Q</td>\n",
       "      <td>T</td>\n",
       "      <td>NaN</td>\n",
       "      <td>NaN</td>\n",
       "    </tr>\n",
       "    <tr>\n",
       "      <th>4</th>\n",
       "      <td>C00000638</td>\n",
       "      <td>INDIANA STATE MEDICAL ASSOCIATION POLITICAL AC...</td>\n",
       "      <td>VIDYA KORA, M.D.</td>\n",
       "      <td>322 CANAL WALK, CANAL LEVEL</td>\n",
       "      <td>NaN</td>\n",
       "      <td>INDIANAPOLIS</td>\n",
       "      <td>IN</td>\n",
       "      <td>46202</td>\n",
       "      <td>U</td>\n",
       "      <td>Q</td>\n",
       "      <td>NaN</td>\n",
       "      <td>Q</td>\n",
       "      <td>M</td>\n",
       "      <td>NaN</td>\n",
       "      <td>NaN</td>\n",
       "    </tr>\n",
       "  </tbody>\n",
       "</table>\n",
       "</div>"
      ],
      "text/plain": [
       "     CMTE_ID                                            CMTE_NM  \\\n",
       "0  C00000059                                 HALLMARK CARDS PAC   \n",
       "1  C00000422  AMERICAN MEDICAL ASSOCIATION POLITICAL ACTION ...   \n",
       "2  C00000489               D R I V E POLITICAL FUND CHAPTER 886   \n",
       "3  C00000547  KANSAS MEDICAL SOCIETY POLITICAL ACTION COMMITTEE   \n",
       "4  C00000638  INDIANA STATE MEDICAL ASSOCIATION POLITICAL AC...   \n",
       "\n",
       "                      TRES_NM                     CMTE_ST1   CMTE_ST2  \\\n",
       "0                 ERIN BROWER                   2501 MCGEE     MD#288   \n",
       "1               WALKER, KEVIN     25 MASSACHUSETTS AVE, NW  SUITE 600   \n",
       "2                  TOM RITTER                  3528 W RENO        NaN   \n",
       "3  C. RICHARD BONEBRAKE, M.D.              623 SW 10TH AVE        NaN   \n",
       "4            VIDYA KORA, M.D.  322 CANAL WALK, CANAL LEVEL        NaN   \n",
       "\n",
       "       CMTE_CITY CMTE_ST CMTE_ZIP CMTE_DSGN CMTE_TP CMTE_PTY_AFFILIATION  \\\n",
       "0    KANSAS CITY      MO    64108         U       Q                  UNK   \n",
       "1     WASHINGTON      DC    20001         B       Q                  NaN   \n",
       "2  OKLAHOMA CITY      OK    73107         U       N                  NaN   \n",
       "3         TOPEKA      KS    66612         U       Q                  UNK   \n",
       "4   INDIANAPOLIS      IN    46202         U       Q                  NaN   \n",
       "\n",
       "  CMTE_FILING_FREQ ORG_TP              CONNECTED_ORG_NM CAND_ID  \n",
       "0                M      C                           NaN     NaN  \n",
       "1                M      M  AMERICAN MEDICAL ASSOCIATION     NaN  \n",
       "2                Q      L     TEAMSTERS LOCAL UNION 886     NaN  \n",
       "3                Q      T                           NaN     NaN  \n",
       "4                Q      M                           NaN     NaN  "
      ]
     },
     "execution_count": 5,
     "metadata": {},
     "output_type": "execute_result"
    }
   ],
   "source": [
    "pac_headers_df = pd.read_csv('https://www.fec.gov/files/bulk-downloads/data_dictionaries/cm_header_file.csv')\n",
    "pac_headers = pac_headers_df.columns.tolist()\n",
    "fec_pacs = pd.read_csv('data/cm.txt', sep=\"|\", index_col=False, names=pac_headers)\n",
    "fec_pacs.head(5)"
   ]
  },
  {
   "cell_type": "markdown",
   "metadata": {},
   "source": [
    "* We'll now merge the candidate information with the PAC contributions information\n",
    "* And we'll merge the result of the first merging with the committee information"
   ]
  },
  {
   "cell_type": "code",
   "execution_count": 6,
   "metadata": {},
   "outputs": [
    {
     "name": "stdout",
     "output_type": "stream",
     "text": [
      "(120077, 27)\n"
     ]
    }
   ],
   "source": [
    "fec_pac_contr = pd.merge(fec_pac_contr,\n",
    "                          fec_cands[[\"CAND_ID\", \"CAND_NAME\", \"CAND_PTY_AFFILIATION\"]],\n",
    "                          on=\"CAND_ID\",\n",
    "                          how='inner')\n",
    "fec_pac_contr = pd.merge(fec_pac_contr,\n",
    "                          fec_pacs[[\"CMTE_ID\", \"CMTE_NM\", \"CMTE_TP\", \"CMTE_PTY_AFFILIATION\"]],\n",
    "                          on=[\"CMTE_ID\"],\n",
    "                          how='inner')\n",
    "print(fec_pac_contr.shape)"
   ]
  },
  {
   "cell_type": "markdown",
   "metadata": {},
   "source": [
    "* Since in the first question we are interested only in the two main presidential candidates we will keep only the rows that correspond to support on either of these two candidates."
   ]
  },
  {
   "cell_type": "code",
   "execution_count": 7,
   "metadata": {},
   "outputs": [
    {
     "name": "stderr",
     "output_type": "stream",
     "text": [
      "c:\\users\\michv\\appdata\\local\\programs\\python\\python37\\lib\\site-packages\\pandas\\core\\indexing.py:1763: SettingWithCopyWarning: \n",
      "A value is trying to be set on a copy of a slice from a DataFrame.\n",
      "Try using .loc[row_indexer,col_indexer] = value instead\n",
      "\n",
      "See the caveats in the documentation: https://pandas.pydata.org/pandas-docs/stable/user_guide/indexing.html#returning-a-view-versus-a-copy\n",
      "  isetter(loc, value)\n"
     ]
    }
   ],
   "source": [
    "fec_trump_clinton = fec_pac_contr.loc[fec_pac_contr[\"CAND_NAME\"].isin([\"TRUMP, DONALD J. / MICHAEL R. PENCE \", \"CLINTON, HILLARY RODHAM / TIMOTHY MICHAEL KAINE\"])]\n",
    "fec_trump_clinton.loc[fec_trump_clinton['CAND_NAME'] == 'TRUMP, DONALD J. / MICHAEL R. PENCE ', \"CAND_NAME\"] = 'TRUMP'\n",
    "fec_trump_clinton.loc[fec_trump_clinton['CAND_NAME'] == 'CLINTON, HILLARY RODHAM / TIMOTHY MICHAEL KAINE', \"CAND_NAME\"] = 'CLINTON'"
   ]
  },
  {
   "cell_type": "markdown",
   "metadata": {},
   "source": [
    "* Some transactions are refounds, which we don't need to keep. So we will remove negative transactions from our dataframe."
   ]
  },
  {
   "cell_type": "code",
   "execution_count": 8,
   "metadata": {},
   "outputs": [],
   "source": [
    "fec_trump_clinton = fec_trump_clinton.loc[fec_trump_clinton[\"TRANSACTION_AMT\"] > 0]"
   ]
  },
  {
   "cell_type": "markdown",
   "metadata": {},
   "source": [
    "* Since some transactions may be against a candidate we will create a new column which will indicate the candidate each transaction favors (e.g. a transaction against Trump favors Clinton)."
   ]
  },
  {
   "cell_type": "code",
   "execution_count": 9,
   "metadata": {},
   "outputs": [],
   "source": [
    "def favors(row):\n",
    "    if(row[\"CAND_NAME\"]==\"CLINTON\"):\n",
    "        if(row[\"TRANSACTION_TP\"] in [\"24A\", \"24N\"]):\n",
    "            val = \"Donald Trump\"\n",
    "        else:\n",
    "            val = \"Hillary Clinton\"\n",
    "    else:\n",
    "        if(row[\"TRANSACTION_TP\"] in [\"24A\", \"24N\"]):\n",
    "            val = \"Hillary Clinton\"\n",
    "        else:\n",
    "            val = \"Donald Trump\"\n",
    "    return val\n",
    "fec_trump_clinton[\"ACTUAL_CAND\"] = fec_trump_clinton.apply(favors, axis=1)"
   ]
  },
  {
   "cell_type": "markdown",
   "metadata": {},
   "source": [
    "* Now we can use a `group by` to get the contributions of each PAC to the candidates. We won't take into account individual expenditures so we are adding the condition `fec_trump_clinton['ENTITY_TP'] != \"IND\"`."
   ]
  },
  {
   "cell_type": "code",
   "execution_count": 10,
   "metadata": {},
   "outputs": [],
   "source": [
    "top5_pacs_clinton = fec_trump_clinton[(fec_trump_clinton[\"ACTUAL_CAND\"] == \"Hillary Clinton\") &\n",
    "                                      (fec_trump_clinton['ENTITY_TP'] != \"IND\")]\\\n",
    "    .groupby(\"CMTE_NM\")[\"TRANSACTION_AMT\"].sum()\\\n",
    "    .sort_values(ascending=False).head(5).to_frame()\n",
    "\n",
    "top5_pacs_trump = fec_trump_clinton[(fec_trump_clinton[\"ACTUAL_CAND\"] == \"Donald Trump\") &\n",
    "                                    (fec_trump_clinton['ENTITY_TP'] != \"IND\")]\\\n",
    "    .groupby(\"CMTE_NM\")[\"TRANSACTION_AMT\"].sum()\\\n",
    "    .sort_values(ascending=False).head(5).to_frame()"
   ]
  },
  {
   "cell_type": "markdown",
   "metadata": {},
   "source": [
    "* And so we get the top-5 pro-Clinton (or anti-Trump) PACs:"
   ]
  },
  {
   "cell_type": "code",
   "execution_count": 11,
   "metadata": {},
   "outputs": [
    {
     "data": {
      "text/html": [
       "<div>\n",
       "<style scoped>\n",
       "    .dataframe tbody tr th:only-of-type {\n",
       "        vertical-align: middle;\n",
       "    }\n",
       "\n",
       "    .dataframe tbody tr th {\n",
       "        vertical-align: top;\n",
       "    }\n",
       "\n",
       "    .dataframe thead th {\n",
       "        text-align: right;\n",
       "    }\n",
       "</style>\n",
       "<table border=\"1\" class=\"dataframe\">\n",
       "  <thead>\n",
       "    <tr style=\"text-align: right;\">\n",
       "      <th></th>\n",
       "      <th>TRANSACTION_AMT</th>\n",
       "    </tr>\n",
       "    <tr>\n",
       "      <th>CMTE_NM</th>\n",
       "      <th></th>\n",
       "    </tr>\n",
       "  </thead>\n",
       "  <tbody>\n",
       "    <tr>\n",
       "      <th>PRIORITIES USA ACTION</th>\n",
       "      <td>132494533</td>\n",
       "    </tr>\n",
       "    <tr>\n",
       "      <th>DNC SERVICES CORP./DEM. NAT'L COMMITTEE</th>\n",
       "      <td>22816861</td>\n",
       "    </tr>\n",
       "    <tr>\n",
       "      <th>OUR PRINCIPLES PAC</th>\n",
       "      <td>16353117</td>\n",
       "    </tr>\n",
       "    <tr>\n",
       "      <th>UNITED WE CAN</th>\n",
       "      <td>13499952</td>\n",
       "    </tr>\n",
       "    <tr>\n",
       "      <th>NEXTGEN CALIFORNIA ACTION COMMITTEE</th>\n",
       "      <td>13240861</td>\n",
       "    </tr>\n",
       "  </tbody>\n",
       "</table>\n",
       "</div>"
      ],
      "text/plain": [
       "                                         TRANSACTION_AMT\n",
       "CMTE_NM                                                 \n",
       "PRIORITIES USA ACTION                          132494533\n",
       "DNC SERVICES CORP./DEM. NAT'L COMMITTEE         22816861\n",
       "OUR PRINCIPLES PAC                              16353117\n",
       "UNITED WE CAN                                   13499952\n",
       "NEXTGEN CALIFORNIA ACTION COMMITTEE             13240861"
      ]
     },
     "execution_count": 11,
     "metadata": {},
     "output_type": "execute_result"
    }
   ],
   "source": [
    "top5_pacs_clinton"
   ]
  },
  {
   "cell_type": "markdown",
   "metadata": {},
   "source": [
    "* And the top-5 pro-Trump (or anti-Clinton) PACs:"
   ]
  },
  {
   "cell_type": "code",
   "execution_count": 12,
   "metadata": {},
   "outputs": [
    {
     "data": {
      "text/html": [
       "<div>\n",
       "<style scoped>\n",
       "    .dataframe tbody tr th:only-of-type {\n",
       "        vertical-align: middle;\n",
       "    }\n",
       "\n",
       "    .dataframe tbody tr th {\n",
       "        vertical-align: top;\n",
       "    }\n",
       "\n",
       "    .dataframe thead th {\n",
       "        text-align: right;\n",
       "    }\n",
       "</style>\n",
       "<table border=\"1\" class=\"dataframe\">\n",
       "  <thead>\n",
       "    <tr style=\"text-align: right;\">\n",
       "      <th></th>\n",
       "      <th>TRANSACTION_AMT</th>\n",
       "    </tr>\n",
       "    <tr>\n",
       "      <th>CMTE_NM</th>\n",
       "      <th></th>\n",
       "    </tr>\n",
       "  </thead>\n",
       "  <tbody>\n",
       "    <tr>\n",
       "      <th>FUTURE45</th>\n",
       "      <td>24219101</td>\n",
       "    </tr>\n",
       "    <tr>\n",
       "      <th>GREAT AMERICA PAC</th>\n",
       "      <td>23879421</td>\n",
       "    </tr>\n",
       "    <tr>\n",
       "      <th>NATIONAL RIFLE ASSOCIATION INSTITUTE FOR LEGISLATIVE ACTION</th>\n",
       "      <td>21880634</td>\n",
       "    </tr>\n",
       "    <tr>\n",
       "      <th>REBUILDING AMERICA NOW</th>\n",
       "      <td>21199098</td>\n",
       "    </tr>\n",
       "    <tr>\n",
       "      <th>REPUBLICAN NATIONAL COMMITTEE</th>\n",
       "      <td>20790780</td>\n",
       "    </tr>\n",
       "  </tbody>\n",
       "</table>\n",
       "</div>"
      ],
      "text/plain": [
       "                                                    TRANSACTION_AMT\n",
       "CMTE_NM                                                            \n",
       "FUTURE45                                                   24219101\n",
       "GREAT AMERICA PAC                                          23879421\n",
       "NATIONAL RIFLE ASSOCIATION INSTITUTE FOR LEGISL...         21880634\n",
       "REBUILDING AMERICA NOW                                     21199098\n",
       "REPUBLICAN NATIONAL COMMITTEE                              20790780"
      ]
     },
     "execution_count": 12,
     "metadata": {},
     "output_type": "execute_result"
    }
   ],
   "source": [
    "top5_pacs_trump"
   ]
  },
  {
   "cell_type": "markdown",
   "metadata": {},
   "source": [
    "## Comments on the results of question 1\n",
    "\n",
    "* We can see that 2 of the top-5 pro-Trump PACs (*GREAT AMERICA PAC* and *REBUILDING AMERICA NOW*) may have some connection with the main slogan of Trump's campaign \"Make America Great Again\".\n",
    "* We also see that a rifle Association is one of the top pro-Trump committees, which was probably a result of Trump's opposition to gun control.\n",
    "* For the top-5 pro-Clinton we can't say much just by the names, but if we look at the next top pro-Clinton PACs we can see that a lot of them have names connected to policies of the Democratic party, to social groups which generally support Democrats or to groups who had no reason to support the other side(Trump). Some examples are the PACs \"WOMEN VOTE!\", \"NEXTGEN CLIMATE ACTION COMMITTEE\", \"PLANNED PARENTHOOD VOTES\", \"AMERICAN FEDERATION OF TEACHERS\", \"IMMIGRANT VOTERS WIN PAC\", etc.\n",
    "* For both candidates the respective party's national committee is in the top supporting committees but both candidates have bigger supporting committees than their party's."
   ]
  },
  {
   "cell_type": "markdown",
   "metadata": {},
   "source": [
    "## Question 2\n",
    "\n",
    "**Identify the top 10 individual donors (i.e., persons) for each of the two presidential candidates and the amount they spent. In order to do that, you should know that donations are not always to a fundraising committee that can be directly linked to a candidate, but they can be due to other entities such as PACs.**\n",
    "\n",
    "* For this question we need to read the information \"Contributions by individuals\". As with previous cases we need to read a header file as well.\n",
    "* Since the information is too much we won't read all the columns but only those we'll probably need"
   ]
  },
  {
   "cell_type": "code",
   "execution_count": 13,
   "metadata": {},
   "outputs": [
    {
     "name": "stderr",
     "output_type": "stream",
     "text": [
      "c:\\users\\michv\\appdata\\local\\programs\\python\\python37\\lib\\site-packages\\IPython\\core\\interactiveshell.py:3146: DtypeWarning: Columns (3,5,15) have mixed types.Specify dtype option on import or set low_memory=False.\n",
      "  interactivity=interactivity, compiler=compiler, result=result)\n"
     ]
    },
    {
     "data": {
      "text/html": [
       "<div>\n",
       "<style scoped>\n",
       "    .dataframe tbody tr th:only-of-type {\n",
       "        vertical-align: middle;\n",
       "    }\n",
       "\n",
       "    .dataframe tbody tr th {\n",
       "        vertical-align: top;\n",
       "    }\n",
       "\n",
       "    .dataframe thead th {\n",
       "        text-align: right;\n",
       "    }\n",
       "</style>\n",
       "<table border=\"1\" class=\"dataframe\">\n",
       "  <thead>\n",
       "    <tr style=\"text-align: right;\">\n",
       "      <th></th>\n",
       "      <th>CMTE_ID</th>\n",
       "      <th>TRANSACTION_PGI</th>\n",
       "      <th>TRANSACTION_TP</th>\n",
       "      <th>ENTITY_TP</th>\n",
       "      <th>NAME</th>\n",
       "      <th>STATE</th>\n",
       "      <th>TRANSACTION_DT</th>\n",
       "      <th>TRANSACTION_AMT</th>\n",
       "      <th>OTHER_ID</th>\n",
       "    </tr>\n",
       "  </thead>\n",
       "  <tbody>\n",
       "    <tr>\n",
       "      <th>0</th>\n",
       "      <td>C00088591</td>\n",
       "      <td>P</td>\n",
       "      <td>15</td>\n",
       "      <td>IND</td>\n",
       "      <td>BURCH, MARY K.</td>\n",
       "      <td>VA</td>\n",
       "      <td>2132015.0</td>\n",
       "      <td>500</td>\n",
       "      <td>NaN</td>\n",
       "    </tr>\n",
       "    <tr>\n",
       "      <th>1</th>\n",
       "      <td>C00088591</td>\n",
       "      <td>P</td>\n",
       "      <td>15</td>\n",
       "      <td>IND</td>\n",
       "      <td>KOUNTZ, DONALD E.</td>\n",
       "      <td>VA</td>\n",
       "      <td>2132015.0</td>\n",
       "      <td>200</td>\n",
       "      <td>NaN</td>\n",
       "    </tr>\n",
       "    <tr>\n",
       "      <th>2</th>\n",
       "      <td>C00088591</td>\n",
       "      <td>P</td>\n",
       "      <td>15</td>\n",
       "      <td>IND</td>\n",
       "      <td>KOUNTZ, DONALD E.</td>\n",
       "      <td>VA</td>\n",
       "      <td>2272015.0</td>\n",
       "      <td>200</td>\n",
       "      <td>NaN</td>\n",
       "    </tr>\n",
       "    <tr>\n",
       "      <th>3</th>\n",
       "      <td>C00088591</td>\n",
       "      <td>P</td>\n",
       "      <td>15</td>\n",
       "      <td>IND</td>\n",
       "      <td>DOSHI, NIMISH M.</td>\n",
       "      <td>VA</td>\n",
       "      <td>2132015.0</td>\n",
       "      <td>200</td>\n",
       "      <td>NaN</td>\n",
       "    </tr>\n",
       "    <tr>\n",
       "      <th>4</th>\n",
       "      <td>C00088591</td>\n",
       "      <td>P</td>\n",
       "      <td>15</td>\n",
       "      <td>IND</td>\n",
       "      <td>DOSHI, NIMISH M.</td>\n",
       "      <td>VA</td>\n",
       "      <td>2272015.0</td>\n",
       "      <td>200</td>\n",
       "      <td>NaN</td>\n",
       "    </tr>\n",
       "  </tbody>\n",
       "</table>\n",
       "</div>"
      ],
      "text/plain": [
       "     CMTE_ID TRANSACTION_PGI TRANSACTION_TP ENTITY_TP               NAME  \\\n",
       "0  C00088591               P             15       IND     BURCH, MARY K.   \n",
       "1  C00088591               P             15       IND  KOUNTZ, DONALD E.   \n",
       "2  C00088591               P             15       IND  KOUNTZ, DONALD E.   \n",
       "3  C00088591               P             15       IND   DOSHI, NIMISH M.   \n",
       "4  C00088591               P             15       IND   DOSHI, NIMISH M.   \n",
       "\n",
       "  STATE  TRANSACTION_DT  TRANSACTION_AMT OTHER_ID  \n",
       "0    VA       2132015.0              500      NaN  \n",
       "1    VA       2132015.0              200      NaN  \n",
       "2    VA       2272015.0              200      NaN  \n",
       "3    VA       2132015.0              200      NaN  \n",
       "4    VA       2272015.0              200      NaN  "
      ]
     },
     "execution_count": 13,
     "metadata": {},
     "output_type": "execute_result"
    }
   ],
   "source": [
    "ind_headers_df = pd.read_csv('https://www.fec.gov/files/bulk-downloads/data_dictionaries/indiv_header_file.csv')\n",
    "ind_headers = ind_headers_df.columns.tolist()\n",
    "fields = ['CMTE_ID', 'TRANSACTION_PGI', 'TRANSACTION_TP', 'ENTITY_TP', 'NAME', 'STATE', 'TRANSACTION_DT', 'TRANSACTION_AMT', 'OTHER_ID']\n",
    "fec_ind =  pd.read_csv('data/itcont.txt', sep=\"|\", index_col=False, names=ind_headers, usecols=fields)\n",
    "fec_ind.head(5)"
   ]
  },
  {
   "cell_type": "markdown",
   "metadata": {},
   "source": [
    "* We only want to keep contributions made by individuals (`fec_ind['ENTITY_TP'] == \"IND\"`).\n",
    "* We also don't want to take into account refounds (`fec_ind['TRANSACTION_AMT'] > 0`)."
   ]
  },
  {
   "cell_type": "code",
   "execution_count": 14,
   "metadata": {},
   "outputs": [],
   "source": [
    "fec_ind = fec_ind.loc[(fec_ind['ENTITY_TP'] == \"IND\") &\n",
    "                      (fec_ind['TRANSACTION_AMT'] > 0)]"
   ]
  },
  {
   "cell_type": "markdown",
   "metadata": {},
   "source": [
    "* Here one could argue that we should also use (`fec_ind['TRANSACTION_PGI'] == \"G2016\"`) since we only care for the general elections of 2016 (the code indicates the election for which the contribution was made).\n",
    "* However if we use the `value_counts()` method on the field `'TRANSACTION_PGI'` we notice that most of the transactions have only the letter 'P' as code for this field, which doesn't correspond to anything. The correct codes should have the format `EYYYY (election plus election year)`, where the most common options for the first letter are 'G' (reffering to General) and 'P' (reffering to Primary). Seeing so many 'P' instances of this field and noticing that there are less occurences of 'G2016' than 'P2016', we assume that possibly many people confused the 'P' for Presidential instead of Primary. So we will not add this extra condition contrary to what would seem logical by first sight.\n",
    "* This conclusion was reached after doing the exercise with this condition and getting very small numbers for the top contributors."
   ]
  },
  {
   "cell_type": "code",
   "execution_count": 15,
   "metadata": {},
   "outputs": [
    {
     "data": {
      "text/plain": [
       "P        8819053\n",
       "P2016    3904933\n",
       "G2016    2833834\n",
       "G2015     104843\n",
       "R2015      66162\n",
       "          ...   \n",
       "G216           1\n",
       "P1             1\n",
       "C2014          1\n",
       "P1200          1\n",
       "S2013          1\n",
       "Name: TRANSACTION_PGI, Length: 96, dtype: int64"
      ]
     },
     "execution_count": 15,
     "metadata": {},
     "output_type": "execute_result"
    }
   ],
   "source": [
    "fec_ind['TRANSACTION_PGI'].value_counts()"
   ]
  },
  {
   "cell_type": "markdown",
   "metadata": {},
   "source": [
    "* Since individuals don't necessarily give money only to committees directly linked to candidates, but to other entities such as PACs, we need to find for which candidate each committee/entity/organisation advocates for. We will use the field `\"ACTUAL_CAND\"` from the previous question to do this."
   ]
  },
  {
   "cell_type": "code",
   "execution_count": 16,
   "metadata": {},
   "outputs": [
    {
     "data": {
      "text/plain": [
       "(800, 3)"
      ]
     },
     "execution_count": 16,
     "metadata": {},
     "output_type": "execute_result"
    }
   ],
   "source": [
    "fec_pacs_once = fec_trump_clinton[['CMTE_ID', 'TRANSACTION_AMT', 'ACTUAL_CAND']].drop_duplicates(subset=['CMTE_ID'])\n",
    "fec_pacs_once.shape"
   ]
  },
  {
   "cell_type": "markdown",
   "metadata": {},
   "source": [
    "* What we are doing may have the problem that if a PAC advocates for both candidates, we count it as advocating only for the first we encounter. However most PACs (at least the important ones) support only one of the two main candidates so this is not a problem. Without doing this simplification it would be very difficult to answer the question and the price we pay is not so big.\n",
    "* Now we can merge the data about the individual's contributions and the information about which PAC supports which candidate."
   ]
  },
  {
   "cell_type": "code",
   "execution_count": 17,
   "metadata": {},
   "outputs": [],
   "source": [
    "ind_to_cand = pd.merge(fec_ind[['CMTE_ID', 'NAME', 'TRANSACTION_AMT', 'STATE', 'TRANSACTION_DT']],\n",
    "                          fec_pacs_once[['CMTE_ID', 'ACTUAL_CAND']],\n",
    "                          on=\"CMTE_ID\",\n",
    "                          how='inner')"
   ]
  },
  {
   "cell_type": "markdown",
   "metadata": {},
   "source": [
    "* Now we can use a `groupby` to find the top individual supporters for each of the two main candidates"
   ]
  },
  {
   "cell_type": "code",
   "execution_count": 18,
   "metadata": {},
   "outputs": [],
   "source": [
    "top_ind_trump = ind_to_cand[ind_to_cand[\"ACTUAL_CAND\"] == \"Donald Trump\"]\\\n",
    "    .groupby(\"NAME\")[\"TRANSACTION_AMT\"].sum()\\\n",
    "    .sort_values(ascending=False).to_frame()"
   ]
  },
  {
   "cell_type": "code",
   "execution_count": 19,
   "metadata": {},
   "outputs": [
    {
     "data": {
      "text/html": [
       "<div>\n",
       "<style scoped>\n",
       "    .dataframe tbody tr th:only-of-type {\n",
       "        vertical-align: middle;\n",
       "    }\n",
       "\n",
       "    .dataframe tbody tr th {\n",
       "        vertical-align: top;\n",
       "    }\n",
       "\n",
       "    .dataframe thead th {\n",
       "        text-align: right;\n",
       "    }\n",
       "</style>\n",
       "<table border=\"1\" class=\"dataframe\">\n",
       "  <thead>\n",
       "    <tr style=\"text-align: right;\">\n",
       "      <th></th>\n",
       "      <th>TRANSACTION_AMT</th>\n",
       "    </tr>\n",
       "    <tr>\n",
       "      <th>NAME</th>\n",
       "      <th></th>\n",
       "    </tr>\n",
       "  </thead>\n",
       "  <tbody>\n",
       "    <tr>\n",
       "      <th>MERCER, ROBERT</th>\n",
       "      <td>15900800</td>\n",
       "    </tr>\n",
       "    <tr>\n",
       "      <th>ADELSON, SHELDON</th>\n",
       "      <td>10000000</td>\n",
       "    </tr>\n",
       "    <tr>\n",
       "      <th>ADELSON, MIRIAM</th>\n",
       "      <td>10000000</td>\n",
       "    </tr>\n",
       "    <tr>\n",
       "      <th>HENDRICKS, DIANE</th>\n",
       "      <td>8152900</td>\n",
       "    </tr>\n",
       "    <tr>\n",
       "      <th>MARCUS, BERNARD</th>\n",
       "      <td>7395800</td>\n",
       "    </tr>\n",
       "    <tr>\n",
       "      <th>MCMAHON, LINDA E.</th>\n",
       "      <td>7200400</td>\n",
       "    </tr>\n",
       "    <tr>\n",
       "      <th>UIHLEIN, RICHARD</th>\n",
       "      <td>6406600</td>\n",
       "    </tr>\n",
       "    <tr>\n",
       "      <th>UIHLEIN, RICHARD E.</th>\n",
       "      <td>5356600</td>\n",
       "    </tr>\n",
       "    <tr>\n",
       "      <th>PERLMUTTER, ISAAC</th>\n",
       "      <td>5000000</td>\n",
       "    </tr>\n",
       "    <tr>\n",
       "      <th>PALMER, GEOFFREY H.</th>\n",
       "      <td>4000000</td>\n",
       "    </tr>\n",
       "  </tbody>\n",
       "</table>\n",
       "</div>"
      ],
      "text/plain": [
       "                     TRANSACTION_AMT\n",
       "NAME                                \n",
       "MERCER, ROBERT              15900800\n",
       "ADELSON, SHELDON            10000000\n",
       "ADELSON, MIRIAM             10000000\n",
       "HENDRICKS, DIANE             8152900\n",
       "MARCUS, BERNARD              7395800\n",
       "MCMAHON, LINDA E.            7200400\n",
       "UIHLEIN, RICHARD             6406600\n",
       "UIHLEIN, RICHARD E.          5356600\n",
       "PERLMUTTER, ISAAC            5000000\n",
       "PALMER, GEOFFREY H.          4000000"
      ]
     },
     "execution_count": 19,
     "metadata": {},
     "output_type": "execute_result"
    }
   ],
   "source": [
    "top_ind_trump.head(10)"
   ]
  },
  {
   "cell_type": "code",
   "execution_count": 20,
   "metadata": {},
   "outputs": [],
   "source": [
    "top_ind_clinton = ind_to_cand[ind_to_cand[\"ACTUAL_CAND\"] == \"Hillary Clinton\"]\\\n",
    "    .groupby(\"NAME\")[\"TRANSACTION_AMT\"].sum()\\\n",
    "    .sort_values(ascending=False).to_frame()"
   ]
  },
  {
   "cell_type": "code",
   "execution_count": 21,
   "metadata": {},
   "outputs": [
    {
     "data": {
      "text/html": [
       "<div>\n",
       "<style scoped>\n",
       "    .dataframe tbody tr th:only-of-type {\n",
       "        vertical-align: middle;\n",
       "    }\n",
       "\n",
       "    .dataframe tbody tr th {\n",
       "        vertical-align: top;\n",
       "    }\n",
       "\n",
       "    .dataframe thead th {\n",
       "        text-align: right;\n",
       "    }\n",
       "</style>\n",
       "<table border=\"1\" class=\"dataframe\">\n",
       "  <thead>\n",
       "    <tr style=\"text-align: right;\">\n",
       "      <th></th>\n",
       "      <th>TRANSACTION_AMT</th>\n",
       "    </tr>\n",
       "    <tr>\n",
       "      <th>NAME</th>\n",
       "      <th></th>\n",
       "    </tr>\n",
       "  </thead>\n",
       "  <tbody>\n",
       "    <tr>\n",
       "      <th>STEYER, THOMAS F.</th>\n",
       "      <td>89636000</td>\n",
       "    </tr>\n",
       "    <tr>\n",
       "      <th>EYCHANER, FRED</th>\n",
       "      <td>36614700</td>\n",
       "    </tr>\n",
       "    <tr>\n",
       "      <th>SUSSMAN, DONALD</th>\n",
       "      <td>24294600</td>\n",
       "    </tr>\n",
       "    <tr>\n",
       "      <th>BLOOMBERG, MICHAEL R.</th>\n",
       "      <td>21673224</td>\n",
       "    </tr>\n",
       "    <tr>\n",
       "      <th>SOROS, GEORGE</th>\n",
       "      <td>20729924</td>\n",
       "    </tr>\n",
       "    <tr>\n",
       "      <th>MOSKOVITZ, DUSTIN</th>\n",
       "      <td>16561400</td>\n",
       "    </tr>\n",
       "    <tr>\n",
       "      <th>SUSSMAN, S. DONALD</th>\n",
       "      <td>13013500</td>\n",
       "    </tr>\n",
       "    <tr>\n",
       "      <th>ASSOCIATION, NATIONAL EDUCATION</th>\n",
       "      <td>12175000</td>\n",
       "    </tr>\n",
       "    <tr>\n",
       "      <th>SIMONS, JAMES H.</th>\n",
       "      <td>11294300</td>\n",
       "    </tr>\n",
       "    <tr>\n",
       "      <th>SIMONS, JAMES</th>\n",
       "      <td>11008780</td>\n",
       "    </tr>\n",
       "  </tbody>\n",
       "</table>\n",
       "</div>"
      ],
      "text/plain": [
       "                                 TRANSACTION_AMT\n",
       "NAME                                            \n",
       "STEYER, THOMAS F.                       89636000\n",
       "EYCHANER, FRED                          36614700\n",
       "SUSSMAN, DONALD                         24294600\n",
       "BLOOMBERG, MICHAEL R.                   21673224\n",
       "SOROS, GEORGE                           20729924\n",
       "MOSKOVITZ, DUSTIN                       16561400\n",
       "SUSSMAN, S. DONALD                      13013500\n",
       "ASSOCIATION, NATIONAL EDUCATION         12175000\n",
       "SIMONS, JAMES H.                        11294300\n",
       "SIMONS, JAMES                           11008780"
      ]
     },
     "execution_count": 21,
     "metadata": {},
     "output_type": "execute_result"
    }
   ],
   "source": [
    "top_ind_clinton.head(10)"
   ]
  },
  {
   "cell_type": "markdown",
   "metadata": {},
   "source": [
    "* As we can see there are some problems with the names. Some names appear multiple times with slight differences and sometimes a couple may appear twice (one for each person in the couple). In this last situation we count the to people as one.\n",
    "* To fix this we will present the top-30 individuals (before data-cleaning), try to fix the problem by hand and then present the new results.\n",
    "* The individuals below the top-30 have slighter chances of affecting which people enter the top-10 so we won't give them any attention. It would also be too time consuming to do so.\n",
    "* We see that there are still some corporations or committees counted as individuals. We'll fix this as well."
   ]
  },
  {
   "cell_type": "markdown",
   "metadata": {},
   "source": [
    "* First for Trump supporters:"
   ]
  },
  {
   "cell_type": "code",
   "execution_count": 22,
   "metadata": {},
   "outputs": [
    {
     "data": {
      "text/html": [
       "<div>\n",
       "<style scoped>\n",
       "    .dataframe tbody tr th:only-of-type {\n",
       "        vertical-align: middle;\n",
       "    }\n",
       "\n",
       "    .dataframe tbody tr th {\n",
       "        vertical-align: top;\n",
       "    }\n",
       "\n",
       "    .dataframe thead th {\n",
       "        text-align: right;\n",
       "    }\n",
       "</style>\n",
       "<table border=\"1\" class=\"dataframe\">\n",
       "  <thead>\n",
       "    <tr style=\"text-align: right;\">\n",
       "      <th></th>\n",
       "      <th>TRANSACTION_AMT</th>\n",
       "    </tr>\n",
       "    <tr>\n",
       "      <th>NAME</th>\n",
       "      <th></th>\n",
       "    </tr>\n",
       "  </thead>\n",
       "  <tbody>\n",
       "    <tr>\n",
       "      <th>MERCER, ROBERT</th>\n",
       "      <td>15900800</td>\n",
       "    </tr>\n",
       "    <tr>\n",
       "      <th>ADELSON, SHELDON</th>\n",
       "      <td>10000000</td>\n",
       "    </tr>\n",
       "    <tr>\n",
       "      <th>ADELSON, MIRIAM</th>\n",
       "      <td>10000000</td>\n",
       "    </tr>\n",
       "    <tr>\n",
       "      <th>HENDRICKS, DIANE</th>\n",
       "      <td>8152900</td>\n",
       "    </tr>\n",
       "    <tr>\n",
       "      <th>MARCUS, BERNARD</th>\n",
       "      <td>7395800</td>\n",
       "    </tr>\n",
       "    <tr>\n",
       "      <th>MCMAHON, LINDA E.</th>\n",
       "      <td>7200400</td>\n",
       "    </tr>\n",
       "    <tr>\n",
       "      <th>UIHLEIN, RICHARD</th>\n",
       "      <td>6406600</td>\n",
       "    </tr>\n",
       "    <tr>\n",
       "      <th>UIHLEIN, RICHARD E.</th>\n",
       "      <td>5356600</td>\n",
       "    </tr>\n",
       "    <tr>\n",
       "      <th>PERLMUTTER, ISAAC</th>\n",
       "      <td>5000000</td>\n",
       "    </tr>\n",
       "    <tr>\n",
       "      <th>PALMER, GEOFFREY H.</th>\n",
       "      <td>4000000</td>\n",
       "    </tr>\n",
       "    <tr>\n",
       "      <th>HENDRICKS, DIANE MS.</th>\n",
       "      <td>4000000</td>\n",
       "    </tr>\n",
       "    <tr>\n",
       "      <th>BEAL, DANIEL A.</th>\n",
       "      <td>3615764</td>\n",
       "    </tr>\n",
       "    <tr>\n",
       "      <th>STEPHENS, JACKSON T. JR.</th>\n",
       "      <td>3595100</td>\n",
       "    </tr>\n",
       "    <tr>\n",
       "      <th>STEPHENS, WARREN</th>\n",
       "      <td>3400000</td>\n",
       "    </tr>\n",
       "    <tr>\n",
       "      <th>KOCH, CHARLES MR.</th>\n",
       "      <td>3000000</td>\n",
       "    </tr>\n",
       "    <tr>\n",
       "      <th>GRIFFIN, KENNETH C. MR.</th>\n",
       "      <td>2357400</td>\n",
       "    </tr>\n",
       "    <tr>\n",
       "      <th>CAMERON, RONALD M.</th>\n",
       "      <td>2005000</td>\n",
       "    </tr>\n",
       "    <tr>\n",
       "      <th>GILLIAM, RICHARD B. MR.</th>\n",
       "      <td>2000000</td>\n",
       "    </tr>\n",
       "    <tr>\n",
       "      <th>PALMER, GEOFFREY H</th>\n",
       "      <td>2000000</td>\n",
       "    </tr>\n",
       "    <tr>\n",
       "      <th>ANDY, BEAL</th>\n",
       "      <td>2000000</td>\n",
       "    </tr>\n",
       "    <tr>\n",
       "      <th>MCNAIR, ROBERT</th>\n",
       "      <td>2000000</td>\n",
       "    </tr>\n",
       "    <tr>\n",
       "      <th>ADAMS, STEPHEN</th>\n",
       "      <td>1663966</td>\n",
       "    </tr>\n",
       "    <tr>\n",
       "      <th>FEINBERG, STEPHEN</th>\n",
       "      <td>1475000</td>\n",
       "    </tr>\n",
       "    <tr>\n",
       "      <th>JAMES, VIRGINIA</th>\n",
       "      <td>1385600</td>\n",
       "    </tr>\n",
       "    <tr>\n",
       "      <th>LAUFER, WAYNE L. MR.</th>\n",
       "      <td>1300000</td>\n",
       "    </tr>\n",
       "    <tr>\n",
       "      <th>FOSTER, PAUL L. MR.</th>\n",
       "      <td>1066800</td>\n",
       "    </tr>\n",
       "    <tr>\n",
       "      <th>MOSKOWITZ, CHERNA</th>\n",
       "      <td>1001000</td>\n",
       "    </tr>\n",
       "    <tr>\n",
       "      <th>FOX, GEORGE</th>\n",
       "      <td>1000000</td>\n",
       "    </tr>\n",
       "    <tr>\n",
       "      <th>BUCKLEY, WALTER W. JR</th>\n",
       "      <td>1000000</td>\n",
       "    </tr>\n",
       "    <tr>\n",
       "      <th>SINGER, PAUL MR.</th>\n",
       "      <td>1000000</td>\n",
       "    </tr>\n",
       "  </tbody>\n",
       "</table>\n",
       "</div>"
      ],
      "text/plain": [
       "                          TRANSACTION_AMT\n",
       "NAME                                     \n",
       "MERCER, ROBERT                   15900800\n",
       "ADELSON, SHELDON                 10000000\n",
       "ADELSON, MIRIAM                  10000000\n",
       "HENDRICKS, DIANE                  8152900\n",
       "MARCUS, BERNARD                   7395800\n",
       "MCMAHON, LINDA E.                 7200400\n",
       "UIHLEIN, RICHARD                  6406600\n",
       "UIHLEIN, RICHARD E.               5356600\n",
       "PERLMUTTER, ISAAC                 5000000\n",
       "PALMER, GEOFFREY H.               4000000\n",
       "HENDRICKS, DIANE MS.              4000000\n",
       "BEAL, DANIEL A.                   3615764\n",
       "STEPHENS, JACKSON T. JR.          3595100\n",
       "STEPHENS, WARREN                  3400000\n",
       "KOCH, CHARLES MR.                 3000000\n",
       "GRIFFIN, KENNETH C. MR.           2357400\n",
       "CAMERON, RONALD M.                2005000\n",
       "GILLIAM, RICHARD B. MR.           2000000\n",
       "PALMER, GEOFFREY H                2000000\n",
       "ANDY, BEAL                        2000000\n",
       "MCNAIR, ROBERT                    2000000\n",
       "ADAMS, STEPHEN                    1663966\n",
       "FEINBERG, STEPHEN                 1475000\n",
       "JAMES, VIRGINIA                   1385600\n",
       "LAUFER, WAYNE L. MR.              1300000\n",
       "FOSTER, PAUL L. MR.               1066800\n",
       "MOSKOWITZ, CHERNA                 1001000\n",
       "FOX, GEORGE                       1000000\n",
       "BUCKLEY, WALTER W. JR             1000000\n",
       "SINGER, PAUL MR.                  1000000"
      ]
     },
     "execution_count": 22,
     "metadata": {},
     "output_type": "execute_result"
    }
   ],
   "source": [
    "top_ind_trump.head(30)"
   ]
  },
  {
   "cell_type": "code",
   "execution_count": 23,
   "metadata": {},
   "outputs": [],
   "source": [
    "ind_to_cand.loc[ind_to_cand['NAME'].isin([\"ADELSON, SHELDON\", \"ADELSON, MIRIAM\"]), \n",
    "                'NAME'] = \"ADELSON, SHELDON AND MIRIAM\"\n",
    "ind_to_cand.loc[ind_to_cand['NAME'] == \"HENDRICKS, DIANE MS.\", \n",
    "                'NAME'] = \"HENDRICKS, DIANE\"\n",
    "ind_to_cand.loc[ind_to_cand['NAME'] == \"UIHLEIN, RICHARD E.\", \n",
    "                'NAME'] = \"UIHLEIN, RICHARD\"\n",
    "ind_to_cand.loc[ind_to_cand['NAME'] == \"PALMER, GEOFFREY H\", \n",
    "                'NAME'] = \"PALMER, GEOFFREY H.\"\n",
    "ind_to_cand.loc[ind_to_cand['NAME'] == \"STEPHENS, WARREN A.\", \n",
    "                'NAME'] = \"STEPHENS, WARREN\""
   ]
  },
  {
   "cell_type": "markdown",
   "metadata": {},
   "source": [
    "* And now for Clinton supporters:"
   ]
  },
  {
   "cell_type": "code",
   "execution_count": 24,
   "metadata": {},
   "outputs": [
    {
     "data": {
      "text/html": [
       "<div>\n",
       "<style scoped>\n",
       "    .dataframe tbody tr th:only-of-type {\n",
       "        vertical-align: middle;\n",
       "    }\n",
       "\n",
       "    .dataframe tbody tr th {\n",
       "        vertical-align: top;\n",
       "    }\n",
       "\n",
       "    .dataframe thead th {\n",
       "        text-align: right;\n",
       "    }\n",
       "</style>\n",
       "<table border=\"1\" class=\"dataframe\">\n",
       "  <thead>\n",
       "    <tr style=\"text-align: right;\">\n",
       "      <th></th>\n",
       "      <th>TRANSACTION_AMT</th>\n",
       "    </tr>\n",
       "    <tr>\n",
       "      <th>NAME</th>\n",
       "      <th></th>\n",
       "    </tr>\n",
       "  </thead>\n",
       "  <tbody>\n",
       "    <tr>\n",
       "      <th>STEYER, THOMAS F.</th>\n",
       "      <td>89636000</td>\n",
       "    </tr>\n",
       "    <tr>\n",
       "      <th>EYCHANER, FRED</th>\n",
       "      <td>36614700</td>\n",
       "    </tr>\n",
       "    <tr>\n",
       "      <th>SUSSMAN, DONALD</th>\n",
       "      <td>24294600</td>\n",
       "    </tr>\n",
       "    <tr>\n",
       "      <th>BLOOMBERG, MICHAEL R.</th>\n",
       "      <td>21673224</td>\n",
       "    </tr>\n",
       "    <tr>\n",
       "      <th>SOROS, GEORGE</th>\n",
       "      <td>20729924</td>\n",
       "    </tr>\n",
       "    <tr>\n",
       "      <th>MOSKOVITZ, DUSTIN</th>\n",
       "      <td>16561400</td>\n",
       "    </tr>\n",
       "    <tr>\n",
       "      <th>SUSSMAN, S. DONALD</th>\n",
       "      <td>13013500</td>\n",
       "    </tr>\n",
       "    <tr>\n",
       "      <th>ASSOCIATION, NATIONAL EDUCATION</th>\n",
       "      <td>12175000</td>\n",
       "    </tr>\n",
       "    <tr>\n",
       "      <th>SIMONS, JAMES H.</th>\n",
       "      <td>11294300</td>\n",
       "    </tr>\n",
       "    <tr>\n",
       "      <th>SIMONS, JAMES</th>\n",
       "      <td>11008780</td>\n",
       "    </tr>\n",
       "    <tr>\n",
       "      <th>PRITZKER, JAY ROBERT</th>\n",
       "      <td>9743048</td>\n",
       "    </tr>\n",
       "    <tr>\n",
       "      <th>ABRAHAM, DANIEL</th>\n",
       "      <td>9250000</td>\n",
       "    </tr>\n",
       "    <tr>\n",
       "      <th>SABAN, HAIM</th>\n",
       "      <td>7665300</td>\n",
       "    </tr>\n",
       "    <tr>\n",
       "      <th>PRITZKER, MARY KATHRYN</th>\n",
       "      <td>7565400</td>\n",
       "    </tr>\n",
       "    <tr>\n",
       "      <th>BRAMAN, NORMAN</th>\n",
       "      <td>7000000</td>\n",
       "    </tr>\n",
       "    <tr>\n",
       "      <th>TUNA, CARI</th>\n",
       "      <td>6573400</td>\n",
       "    </tr>\n",
       "    <tr>\n",
       "      <th>SABAN, CHERYL</th>\n",
       "      <td>6376500</td>\n",
       "    </tr>\n",
       "    <tr>\n",
       "      <th>WOODS, LAURE</th>\n",
       "      <td>6324959</td>\n",
       "    </tr>\n",
       "    <tr>\n",
       "      <th>LAUFER, HENRY</th>\n",
       "      <td>5633900</td>\n",
       "    </tr>\n",
       "    <tr>\n",
       "      <th>SHAW, DAVID E.</th>\n",
       "      <td>5366800</td>\n",
       "    </tr>\n",
       "    <tr>\n",
       "      <th>GRIFFIN, KENNETH C.</th>\n",
       "      <td>5100000</td>\n",
       "    </tr>\n",
       "    <tr>\n",
       "      <th>SINGER, PAUL ELLIOT</th>\n",
       "      <td>5000000</td>\n",
       "    </tr>\n",
       "    <tr>\n",
       "      <th>CAMERON, RONALD M.</th>\n",
       "      <td>5000000</td>\n",
       "    </tr>\n",
       "    <tr>\n",
       "      <th>ELLISON, LAWRENCE J.</th>\n",
       "      <td>5000000</td>\n",
       "    </tr>\n",
       "    <tr>\n",
       "      <th>SANDLER, HERBERT M.</th>\n",
       "      <td>4700000</td>\n",
       "    </tr>\n",
       "    <tr>\n",
       "      <th>RICKETTS, MARLENE</th>\n",
       "      <td>4501171</td>\n",
       "    </tr>\n",
       "    <tr>\n",
       "      <th>SCHWARTZ, BERNARD L.</th>\n",
       "      <td>4438200</td>\n",
       "    </tr>\n",
       "    <tr>\n",
       "      <th>VLOCK, MICHAEL K.</th>\n",
       "      <td>4200000</td>\n",
       "    </tr>\n",
       "    <tr>\n",
       "      <th>SOROS, ALEXANDER</th>\n",
       "      <td>3992300</td>\n",
       "    </tr>\n",
       "    <tr>\n",
       "      <th>LAUFER, MARSHA Z.</th>\n",
       "      <td>3506200</td>\n",
       "    </tr>\n",
       "  </tbody>\n",
       "</table>\n",
       "</div>"
      ],
      "text/plain": [
       "                                 TRANSACTION_AMT\n",
       "NAME                                            \n",
       "STEYER, THOMAS F.                       89636000\n",
       "EYCHANER, FRED                          36614700\n",
       "SUSSMAN, DONALD                         24294600\n",
       "BLOOMBERG, MICHAEL R.                   21673224\n",
       "SOROS, GEORGE                           20729924\n",
       "MOSKOVITZ, DUSTIN                       16561400\n",
       "SUSSMAN, S. DONALD                      13013500\n",
       "ASSOCIATION, NATIONAL EDUCATION         12175000\n",
       "SIMONS, JAMES H.                        11294300\n",
       "SIMONS, JAMES                           11008780\n",
       "PRITZKER, JAY ROBERT                     9743048\n",
       "ABRAHAM, DANIEL                          9250000\n",
       "SABAN, HAIM                              7665300\n",
       "PRITZKER, MARY KATHRYN                   7565400\n",
       "BRAMAN, NORMAN                           7000000\n",
       "TUNA, CARI                               6573400\n",
       "SABAN, CHERYL                            6376500\n",
       "WOODS, LAURE                             6324959\n",
       "LAUFER, HENRY                            5633900\n",
       "SHAW, DAVID E.                           5366800\n",
       "GRIFFIN, KENNETH C.                      5100000\n",
       "SINGER, PAUL ELLIOT                      5000000\n",
       "CAMERON, RONALD M.                       5000000\n",
       "ELLISON, LAWRENCE J.                     5000000\n",
       "SANDLER, HERBERT M.                      4700000\n",
       "RICKETTS, MARLENE                        4501171\n",
       "SCHWARTZ, BERNARD L.                     4438200\n",
       "VLOCK, MICHAEL K.                        4200000\n",
       "SOROS, ALEXANDER                         3992300\n",
       "LAUFER, MARSHA Z.                        3506200"
      ]
     },
     "execution_count": 24,
     "metadata": {},
     "output_type": "execute_result"
    }
   ],
   "source": [
    "top_ind_clinton.head(30)"
   ]
  },
  {
   "cell_type": "code",
   "execution_count": 25,
   "metadata": {},
   "outputs": [],
   "source": [
    "ind_to_cand = ind_to_cand.drop(ind_to_cand[ind_to_cand['NAME'] == \"ASSOCIATION, NATIONAL EDUCATION\"].index)\n",
    "ind_to_cand.loc[ind_to_cand['NAME'] == \"SUSSMAN, S. DONALD\", \n",
    "                'NAME'] = \"SUSSMAN, DONALD\"\n",
    "ind_to_cand.loc[ind_to_cand['NAME'] == \"SIMONS, JAMES H.\", \n",
    "                'NAME'] = \"SIMONS, JAMES\"\n",
    "ind_to_cand.loc[ind_to_cand['NAME'].isin([\"SABAN, HAIM\", \"SABAN, CHERYL\"]), \n",
    "                'NAME'] = \"SABAN HAIM AND CHERYL\"\n",
    "ind_to_cand.loc[ind_to_cand['NAME'].isin([\"PRITZKER, JAY ROBERT\", \"PRITZKER, MARY KATHRYN\"]), \n",
    "                'NAME'] = \"PRITZKER, MARY KATHRYN AND JAY ROBERT\"\n",
    "ind_to_cand.loc[ind_to_cand['NAME'].isin([\"LAUFER, HENRY\", \"LAUFER, MARSHA Z.\"]), \n",
    "                'NAME'] = \"LAUFER, HENRY AND MARSHA\""
   ]
  },
  {
   "cell_type": "markdown",
   "metadata": {},
   "source": [
    "* And now having done the data correction we can find the real top-10 individual contributors for each candidate:"
   ]
  },
  {
   "cell_type": "code",
   "execution_count": 26,
   "metadata": {},
   "outputs": [
    {
     "data": {
      "text/html": [
       "<div>\n",
       "<style scoped>\n",
       "    .dataframe tbody tr th:only-of-type {\n",
       "        vertical-align: middle;\n",
       "    }\n",
       "\n",
       "    .dataframe tbody tr th {\n",
       "        vertical-align: top;\n",
       "    }\n",
       "\n",
       "    .dataframe thead th {\n",
       "        text-align: right;\n",
       "    }\n",
       "</style>\n",
       "<table border=\"1\" class=\"dataframe\">\n",
       "  <thead>\n",
       "    <tr style=\"text-align: right;\">\n",
       "      <th></th>\n",
       "      <th>TRANSACTION_AMT</th>\n",
       "    </tr>\n",
       "    <tr>\n",
       "      <th>NAME</th>\n",
       "      <th></th>\n",
       "    </tr>\n",
       "  </thead>\n",
       "  <tbody>\n",
       "    <tr>\n",
       "      <th>ADELSON, SHELDON AND MIRIAM</th>\n",
       "      <td>20000000</td>\n",
       "    </tr>\n",
       "    <tr>\n",
       "      <th>MERCER, ROBERT</th>\n",
       "      <td>15900800</td>\n",
       "    </tr>\n",
       "    <tr>\n",
       "      <th>HENDRICKS, DIANE</th>\n",
       "      <td>12152900</td>\n",
       "    </tr>\n",
       "    <tr>\n",
       "      <th>UIHLEIN, RICHARD</th>\n",
       "      <td>11763200</td>\n",
       "    </tr>\n",
       "    <tr>\n",
       "      <th>MARCUS, BERNARD</th>\n",
       "      <td>7395800</td>\n",
       "    </tr>\n",
       "    <tr>\n",
       "      <th>MCMAHON, LINDA E.</th>\n",
       "      <td>7200400</td>\n",
       "    </tr>\n",
       "    <tr>\n",
       "      <th>PALMER, GEOFFREY H.</th>\n",
       "      <td>6000000</td>\n",
       "    </tr>\n",
       "    <tr>\n",
       "      <th>PERLMUTTER, ISAAC</th>\n",
       "      <td>5000000</td>\n",
       "    </tr>\n",
       "    <tr>\n",
       "      <th>STEPHENS, WARREN</th>\n",
       "      <td>4200600</td>\n",
       "    </tr>\n",
       "    <tr>\n",
       "      <th>BEAL, DANIEL A.</th>\n",
       "      <td>3615764</td>\n",
       "    </tr>\n",
       "  </tbody>\n",
       "</table>\n",
       "</div>"
      ],
      "text/plain": [
       "                             TRANSACTION_AMT\n",
       "NAME                                        \n",
       "ADELSON, SHELDON AND MIRIAM         20000000\n",
       "MERCER, ROBERT                      15900800\n",
       "HENDRICKS, DIANE                    12152900\n",
       "UIHLEIN, RICHARD                    11763200\n",
       "MARCUS, BERNARD                      7395800\n",
       "MCMAHON, LINDA E.                    7200400\n",
       "PALMER, GEOFFREY H.                  6000000\n",
       "PERLMUTTER, ISAAC                    5000000\n",
       "STEPHENS, WARREN                     4200600\n",
       "BEAL, DANIEL A.                      3615764"
      ]
     },
     "execution_count": 26,
     "metadata": {},
     "output_type": "execute_result"
    }
   ],
   "source": [
    "top_ind_trump = ind_to_cand[ind_to_cand[\"ACTUAL_CAND\"] == \"Donald Trump\"]\\\n",
    "    .groupby(\"NAME\")[\"TRANSACTION_AMT\"].sum()\\\n",
    "    .sort_values(ascending=False).to_frame()\n",
    "top_ind_trump.head(10)"
   ]
  },
  {
   "cell_type": "code",
   "execution_count": 27,
   "metadata": {},
   "outputs": [
    {
     "data": {
      "text/html": [
       "<div>\n",
       "<style scoped>\n",
       "    .dataframe tbody tr th:only-of-type {\n",
       "        vertical-align: middle;\n",
       "    }\n",
       "\n",
       "    .dataframe tbody tr th {\n",
       "        vertical-align: top;\n",
       "    }\n",
       "\n",
       "    .dataframe thead th {\n",
       "        text-align: right;\n",
       "    }\n",
       "</style>\n",
       "<table border=\"1\" class=\"dataframe\">\n",
       "  <thead>\n",
       "    <tr style=\"text-align: right;\">\n",
       "      <th></th>\n",
       "      <th>TRANSACTION_AMT</th>\n",
       "    </tr>\n",
       "    <tr>\n",
       "      <th>NAME</th>\n",
       "      <th></th>\n",
       "    </tr>\n",
       "  </thead>\n",
       "  <tbody>\n",
       "    <tr>\n",
       "      <th>STEYER, THOMAS F.</th>\n",
       "      <td>89636000</td>\n",
       "    </tr>\n",
       "    <tr>\n",
       "      <th>SUSSMAN, DONALD</th>\n",
       "      <td>37308100</td>\n",
       "    </tr>\n",
       "    <tr>\n",
       "      <th>EYCHANER, FRED</th>\n",
       "      <td>36614700</td>\n",
       "    </tr>\n",
       "    <tr>\n",
       "      <th>SIMONS, JAMES</th>\n",
       "      <td>22303080</td>\n",
       "    </tr>\n",
       "    <tr>\n",
       "      <th>BLOOMBERG, MICHAEL R.</th>\n",
       "      <td>21673224</td>\n",
       "    </tr>\n",
       "    <tr>\n",
       "      <th>SOROS, GEORGE</th>\n",
       "      <td>20729924</td>\n",
       "    </tr>\n",
       "    <tr>\n",
       "      <th>PRITZKER, MARY KATHRYN AND JAY ROBERT</th>\n",
       "      <td>17308448</td>\n",
       "    </tr>\n",
       "    <tr>\n",
       "      <th>MOSKOVITZ, DUSTIN</th>\n",
       "      <td>16561400</td>\n",
       "    </tr>\n",
       "    <tr>\n",
       "      <th>SABAN HAIM AND CHERYL</th>\n",
       "      <td>14041800</td>\n",
       "    </tr>\n",
       "    <tr>\n",
       "      <th>ABRAHAM, DANIEL</th>\n",
       "      <td>9250000</td>\n",
       "    </tr>\n",
       "  </tbody>\n",
       "</table>\n",
       "</div>"
      ],
      "text/plain": [
       "                                       TRANSACTION_AMT\n",
       "NAME                                                  \n",
       "STEYER, THOMAS F.                             89636000\n",
       "SUSSMAN, DONALD                               37308100\n",
       "EYCHANER, FRED                                36614700\n",
       "SIMONS, JAMES                                 22303080\n",
       "BLOOMBERG, MICHAEL R.                         21673224\n",
       "SOROS, GEORGE                                 20729924\n",
       "PRITZKER, MARY KATHRYN AND JAY ROBERT         17308448\n",
       "MOSKOVITZ, DUSTIN                             16561400\n",
       "SABAN HAIM AND CHERYL                         14041800\n",
       "ABRAHAM, DANIEL                                9250000"
      ]
     },
     "execution_count": 27,
     "metadata": {},
     "output_type": "execute_result"
    }
   ],
   "source": [
    "top_ind_clinton = ind_to_cand[ind_to_cand[\"ACTUAL_CAND\"] == \"Hillary Clinton\"]\\\n",
    "    .groupby(\"NAME\")[\"TRANSACTION_AMT\"].sum()\\\n",
    "    .sort_values(ascending=False).to_frame()\n",
    "top_ind_clinton.head(10)"
   ]
  },
  {
   "cell_type": "markdown",
   "metadata": {},
   "source": [
    "## Comments on the results of question 2\n",
    "\n",
    "* We see that Clinton's top individual donors gave more money Trump's \n",
    "* As expected, most people on both lists are managers, businesspeople and billionaires"
   ]
  },
  {
   "cell_type": "markdown",
   "metadata": {},
   "source": [
    "## Question 3\n",
    "\n",
    "**Investigate the chronological evolution of the contributions made to and the expenditures made by the campaigns.**\n",
    "\n",
    "* Contributions made to the campaigns include contributions by individuals and contributions by PACs.\n",
    "* Expenditures made by the campaigns include operating expenditures and independent expenditures.\n",
    "* For the operating expenditures made by the campaigns we need to read the information under \"Operating expenditures\":"
   ]
  },
  {
   "cell_type": "code",
   "execution_count": 28,
   "metadata": {},
   "outputs": [
    {
     "name": "stderr",
     "output_type": "stream",
     "text": [
      "c:\\users\\michv\\appdata\\local\\programs\\python\\python37\\lib\\site-packages\\IPython\\core\\interactiveshell.py:3146: DtypeWarning: Columns (11) have mixed types.Specify dtype option on import or set low_memory=False.\n",
      "  interactivity=interactivity, compiler=compiler, result=result)\n"
     ]
    },
    {
     "data": {
      "text/html": [
       "<div>\n",
       "<style scoped>\n",
       "    .dataframe tbody tr th:only-of-type {\n",
       "        vertical-align: middle;\n",
       "    }\n",
       "\n",
       "    .dataframe tbody tr th {\n",
       "        vertical-align: top;\n",
       "    }\n",
       "\n",
       "    .dataframe thead th {\n",
       "        text-align: right;\n",
       "    }\n",
       "</style>\n",
       "<table border=\"1\" class=\"dataframe\">\n",
       "  <thead>\n",
       "    <tr style=\"text-align: right;\">\n",
       "      <th></th>\n",
       "      <th>CMTE_ID</th>\n",
       "      <th>AMNDT_IND</th>\n",
       "      <th>RPT_YR</th>\n",
       "      <th>NAME</th>\n",
       "      <th>CITY</th>\n",
       "      <th>STATE</th>\n",
       "      <th>ZIP_CODE</th>\n",
       "      <th>TRANSACTION_DT</th>\n",
       "      <th>TRANSACTION_AMT</th>\n",
       "      <th>TRANSACTION_PGI</th>\n",
       "      <th>ENTITY_TP</th>\n",
       "    </tr>\n",
       "  </thead>\n",
       "  <tbody>\n",
       "    <tr>\n",
       "      <th>0</th>\n",
       "      <td>C00415182</td>\n",
       "      <td>N</td>\n",
       "      <td>2015</td>\n",
       "      <td>CHASE CARDMEMBER SERVICE</td>\n",
       "      <td>WILMINGTON</td>\n",
       "      <td>DE</td>\n",
       "      <td>198865153</td>\n",
       "      <td>02/21/2015</td>\n",
       "      <td>3301.24</td>\n",
       "      <td>P2016</td>\n",
       "      <td>ORG</td>\n",
       "    </tr>\n",
       "    <tr>\n",
       "      <th>1</th>\n",
       "      <td>C00415182</td>\n",
       "      <td>N</td>\n",
       "      <td>2015</td>\n",
       "      <td>GOOGLE INC.</td>\n",
       "      <td>SAN FRANCISCO</td>\n",
       "      <td>CA</td>\n",
       "      <td>941390001</td>\n",
       "      <td>01/21/2015</td>\n",
       "      <td>56.42</td>\n",
       "      <td>P2016</td>\n",
       "      <td>ORG</td>\n",
       "    </tr>\n",
       "    <tr>\n",
       "      <th>2</th>\n",
       "      <td>C00415182</td>\n",
       "      <td>N</td>\n",
       "      <td>2015</td>\n",
       "      <td>LINKEDIN CORPORATION</td>\n",
       "      <td>MOUNTAIN VIEW</td>\n",
       "      <td>CA</td>\n",
       "      <td>94043</td>\n",
       "      <td>01/21/2015</td>\n",
       "      <td>49.95</td>\n",
       "      <td>P2016</td>\n",
       "      <td>ORG</td>\n",
       "    </tr>\n",
       "    <tr>\n",
       "      <th>3</th>\n",
       "      <td>C00415182</td>\n",
       "      <td>N</td>\n",
       "      <td>2015</td>\n",
       "      <td>NATIONBUILDER</td>\n",
       "      <td>LOS ANGELES</td>\n",
       "      <td>CA</td>\n",
       "      <td>900131155</td>\n",
       "      <td>01/21/2015</td>\n",
       "      <td>99.00</td>\n",
       "      <td>P2016</td>\n",
       "      <td>ORG</td>\n",
       "    </tr>\n",
       "    <tr>\n",
       "      <th>4</th>\n",
       "      <td>C00415182</td>\n",
       "      <td>N</td>\n",
       "      <td>2015</td>\n",
       "      <td>NGP VAN, INC.</td>\n",
       "      <td>WASHINGTON</td>\n",
       "      <td>DC</td>\n",
       "      <td>20005</td>\n",
       "      <td>01/21/2015</td>\n",
       "      <td>2000.00</td>\n",
       "      <td>P2016</td>\n",
       "      <td>ORG</td>\n",
       "    </tr>\n",
       "  </tbody>\n",
       "</table>\n",
       "</div>"
      ],
      "text/plain": [
       "     CMTE_ID AMNDT_IND  RPT_YR                      NAME           CITY STATE  \\\n",
       "0  C00415182         N    2015  CHASE CARDMEMBER SERVICE     WILMINGTON    DE   \n",
       "1  C00415182         N    2015               GOOGLE INC.  SAN FRANCISCO    CA   \n",
       "2  C00415182         N    2015      LINKEDIN CORPORATION  MOUNTAIN VIEW    CA   \n",
       "3  C00415182         N    2015             NATIONBUILDER    LOS ANGELES    CA   \n",
       "4  C00415182         N    2015             NGP VAN, INC.     WASHINGTON    DC   \n",
       "\n",
       "    ZIP_CODE TRANSACTION_DT  TRANSACTION_AMT TRANSACTION_PGI ENTITY_TP  \n",
       "0  198865153     02/21/2015          3301.24           P2016       ORG  \n",
       "1  941390001     01/21/2015            56.42           P2016       ORG  \n",
       "2      94043     01/21/2015            49.95           P2016       ORG  \n",
       "3  900131155     01/21/2015            99.00           P2016       ORG  \n",
       "4      20005     01/21/2015          2000.00           P2016       ORG  "
      ]
     },
     "execution_count": 28,
     "metadata": {},
     "output_type": "execute_result"
    }
   ],
   "source": [
    "oppexp_headers_df = pd.read_csv('https://www.fec.gov/files/bulk-downloads/data_dictionaries/oppexp_header_file.csv')\n",
    "oppexp_headers = oppexp_headers_df.columns.tolist()\n",
    "fields = [\"CMTE_ID\", \"AMNDT_IND\", \"RPT_YR\", \"NAME\", \"CITY\", \"STATE\", \"ZIP_CODE\", \n",
    "          \"TRANSACTION_DT\", \"TRANSACTION_AMT\", \"TRANSACTION_PGI\", \"ENTITY_TP\"]\n",
    "oppexp =  pd.read_csv('data/oppexp.txt', sep=\"|\", index_col=False, names=oppexp_headers, usecols=fields, parse_dates = [\"TRANSACTION_DT\"])\n",
    "oppexp.head(5)"
   ]
  },
  {
   "cell_type": "markdown",
   "metadata": {},
   "source": [
    "* And with the following code we find for each expenditure, the candidate it actually favors."
   ]
  },
  {
   "cell_type": "code",
   "execution_count": 29,
   "metadata": {},
   "outputs": [
    {
     "data": {
      "text/html": [
       "<div>\n",
       "<style scoped>\n",
       "    .dataframe tbody tr th:only-of-type {\n",
       "        vertical-align: middle;\n",
       "    }\n",
       "\n",
       "    .dataframe tbody tr th {\n",
       "        vertical-align: top;\n",
       "    }\n",
       "\n",
       "    .dataframe thead th {\n",
       "        text-align: right;\n",
       "    }\n",
       "</style>\n",
       "<table border=\"1\" class=\"dataframe\">\n",
       "  <thead>\n",
       "    <tr style=\"text-align: right;\">\n",
       "      <th></th>\n",
       "      <th>CMTE_ID</th>\n",
       "      <th>AMNDT_IND</th>\n",
       "      <th>RPT_YR</th>\n",
       "      <th>NAME</th>\n",
       "      <th>CITY</th>\n",
       "      <th>STATE</th>\n",
       "      <th>ZIP_CODE</th>\n",
       "      <th>TRANSACTION_DT</th>\n",
       "      <th>TRANSACTION_AMT</th>\n",
       "      <th>TRANSACTION_PGI</th>\n",
       "      <th>ENTITY_TP</th>\n",
       "      <th>ACTUAL_CAND</th>\n",
       "    </tr>\n",
       "  </thead>\n",
       "  <tbody>\n",
       "    <tr>\n",
       "      <th>28159</th>\n",
       "      <td>C00326363</td>\n",
       "      <td>N</td>\n",
       "      <td>2015</td>\n",
       "      <td>SUMMERS, JAMES</td>\n",
       "      <td>CALISTOGA</td>\n",
       "      <td>CA</td>\n",
       "      <td>94515</td>\n",
       "      <td>05/24/2015</td>\n",
       "      <td>210.00</td>\n",
       "      <td>P2016</td>\n",
       "      <td>IND</td>\n",
       "      <td>Hillary Clinton</td>\n",
       "    </tr>\n",
       "    <tr>\n",
       "      <th>292764</th>\n",
       "      <td>C00003418</td>\n",
       "      <td>A</td>\n",
       "      <td>2016</td>\n",
       "      <td>INFO GROUP INC</td>\n",
       "      <td>OMAHA</td>\n",
       "      <td>NE</td>\n",
       "      <td>68103</td>\n",
       "      <td>01/08/2016</td>\n",
       "      <td>5426.07</td>\n",
       "      <td>NaN</td>\n",
       "      <td>ORG</td>\n",
       "      <td>Donald Trump</td>\n",
       "    </tr>\n",
       "    <tr>\n",
       "      <th>89764</th>\n",
       "      <td>C00193433</td>\n",
       "      <td>N</td>\n",
       "      <td>2016</td>\n",
       "      <td>AMERICAN FLATBREAD</td>\n",
       "      <td>BURLINGTON</td>\n",
       "      <td>VT</td>\n",
       "      <td>054018411</td>\n",
       "      <td>06/21/2016</td>\n",
       "      <td>12.00</td>\n",
       "      <td>NaN</td>\n",
       "      <td>ORG</td>\n",
       "      <td>Hillary Clinton</td>\n",
       "    </tr>\n",
       "    <tr>\n",
       "      <th>347965</th>\n",
       "      <td>C00497420</td>\n",
       "      <td>A</td>\n",
       "      <td>2016</td>\n",
       "      <td>HSP DIRECT LLC</td>\n",
       "      <td>ASHBURN</td>\n",
       "      <td>VA</td>\n",
       "      <td>20147</td>\n",
       "      <td>08/18/2016</td>\n",
       "      <td>26.13</td>\n",
       "      <td>O2016</td>\n",
       "      <td>ORG</td>\n",
       "      <td>Donald Trump</td>\n",
       "    </tr>\n",
       "    <tr>\n",
       "      <th>316188</th>\n",
       "      <td>C00492140</td>\n",
       "      <td>N</td>\n",
       "      <td>2016</td>\n",
       "      <td>LE, DAWN A.</td>\n",
       "      <td>WASHINGTON</td>\n",
       "      <td>DC</td>\n",
       "      <td>200011014</td>\n",
       "      <td>03/11/2016</td>\n",
       "      <td>2358.80</td>\n",
       "      <td>NaN</td>\n",
       "      <td>IND</td>\n",
       "      <td>Hillary Clinton</td>\n",
       "    </tr>\n",
       "  </tbody>\n",
       "</table>\n",
       "</div>"
      ],
      "text/plain": [
       "          CMTE_ID AMNDT_IND  RPT_YR                NAME        CITY STATE  \\\n",
       "28159   C00326363         N    2015      SUMMERS, JAMES   CALISTOGA    CA   \n",
       "292764  C00003418         A    2016      INFO GROUP INC       OMAHA    NE   \n",
       "89764   C00193433         N    2016  AMERICAN FLATBREAD  BURLINGTON    VT   \n",
       "347965  C00497420         A    2016      HSP DIRECT LLC     ASHBURN    VA   \n",
       "316188  C00492140         N    2016         LE, DAWN A.  WASHINGTON    DC   \n",
       "\n",
       "         ZIP_CODE TRANSACTION_DT  TRANSACTION_AMT TRANSACTION_PGI ENTITY_TP  \\\n",
       "28159       94515     05/24/2015           210.00           P2016       IND   \n",
       "292764      68103     01/08/2016          5426.07             NaN       ORG   \n",
       "89764   054018411     06/21/2016            12.00             NaN       ORG   \n",
       "347965      20147     08/18/2016            26.13           O2016       ORG   \n",
       "316188  200011014     03/11/2016          2358.80             NaN       IND   \n",
       "\n",
       "            ACTUAL_CAND  \n",
       "28159   Hillary Clinton  \n",
       "292764     Donald Trump  \n",
       "89764   Hillary Clinton  \n",
       "347965     Donald Trump  \n",
       "316188  Hillary Clinton  "
      ]
     },
     "execution_count": 29,
     "metadata": {},
     "output_type": "execute_result"
    }
   ],
   "source": [
    "oppexp = pd.merge(oppexp, \n",
    "                          fec_pacs_once[['CMTE_ID', 'ACTUAL_CAND']],\n",
    "                          on=\"CMTE_ID\",\n",
    "                          how='inner')\n",
    "oppexp.sample(5)"
   ]
  },
  {
   "cell_type": "markdown",
   "metadata": {},
   "source": [
    "* Now convert the column `TRANSACTION_DT` to actual dates and we make a new column `TR_DT_NEW` with the first day of the month each transaction was made. This is done to help us analyze and plot the chronological evolution of the expenditures.\n",
    "* The records with dates that are before the year 2015 or after the day of the elections are discarded."
   ]
  },
  {
   "cell_type": "code",
   "execution_count": 30,
   "metadata": {},
   "outputs": [],
   "source": [
    "oppexp[\"TRANSACTION_DT\"] = pd.to_datetime(oppexp[\"TRANSACTION_DT\"], format='%m/%d/%Y', errors='coerce')\n",
    "oppexp['TR_DT_NEW'] = oppexp['TRANSACTION_DT'].values.astype('datetime64[M]')\n",
    "oppexp = oppexp.drop(oppexp[(oppexp[\"TRANSACTION_DT\"] == np.datetime64('NaT')) |\n",
    "                            (oppexp[\"TRANSACTION_DT\"] < pd.to_datetime('20150101', format='%Y%m%d')) |\n",
    "                            (oppexp[\"TRANSACTION_DT\"] > pd.to_datetime('20161108', format='%Y%m%d'))].index)"
   ]
  },
  {
   "cell_type": "markdown",
   "metadata": {},
   "source": [
    "* The same is done with the information about the PACs' transactions:"
   ]
  },
  {
   "cell_type": "code",
   "execution_count": 31,
   "metadata": {},
   "outputs": [],
   "source": [
    "fec_trump_clinton[\"TRANSACTION_DT\"] = pd.to_datetime(fec_trump_clinton[\"TRANSACTION_DT\"], format = '%m%d%Y', errors='coerce')\n",
    "fec_trump_clinton['TR_DT_NEW'] = fec_trump_clinton['TRANSACTION_DT'].values.astype('datetime64[M]')\n",
    "fec_trump_clinton = fec_trump_clinton.drop(fec_trump_clinton[(fec_trump_clinton[\"TRANSACTION_DT\"] == np.datetime64('NaT')) |\n",
    "                            (fec_trump_clinton[\"TRANSACTION_DT\"] < pd.to_datetime('20150101', format='%Y%m%d')) |\n",
    "                            (fec_trump_clinton[\"TRANSACTION_DT\"] > pd.to_datetime('20161108', format='%Y%m%d'))].index)"
   ]
  },
  {
   "cell_type": "markdown",
   "metadata": {},
   "source": [
    "* And about the 'Contributions by individuals' information:"
   ]
  },
  {
   "cell_type": "code",
   "execution_count": 32,
   "metadata": {},
   "outputs": [
    {
     "name": "stderr",
     "output_type": "stream",
     "text": [
      "c:\\users\\michv\\appdata\\local\\programs\\python\\python37\\lib\\site-packages\\ipykernel_launcher.py:5: UserWarning: Boolean Series key will be reindexed to match DataFrame index.\n",
      "  \"\"\"\n"
     ]
    }
   ],
   "source": [
    "ind_to_cand[\"TRANSACTION_DT\"] = pd.to_datetime(ind_to_cand[\"TRANSACTION_DT\"], format = '%m%d%Y', errors='coerce')\n",
    "ind_to_cand['TR_DT_NEW'] = ind_to_cand['TRANSACTION_DT'].values.astype('datetime64[M]')\n",
    "ind_to_cand = ind_to_cand.drop(ind_to_cand[(fec_ind[\"TRANSACTION_DT\"] == np.datetime64('NaT')) |\n",
    "                            (ind_to_cand[\"TRANSACTION_DT\"] < pd.to_datetime('20150101', format='%Y%m%d')) |\n",
    "                            (ind_to_cand[\"TRANSACTION_DT\"] > pd.to_datetime('20161108', format='%Y%m%d'))].index)"
   ]
  },
  {
   "cell_type": "markdown",
   "metadata": {},
   "source": [
    "* We now use the `concat` function to create a dataframe with all the contributions"
   ]
  },
  {
   "cell_type": "code",
   "execution_count": 33,
   "metadata": {},
   "outputs": [],
   "source": [
    "all_contr = pd.concat([fec_trump_clinton[['TR_DT_NEW', 'TRANSACTION_AMT', 'STATE', 'NAME', 'ACTUAL_CAND']]\\\n",
    "                     .loc[~(fec_trump_clinton['TRANSACTION_TP'].isin(['24A', '24E']))],\n",
    "                     ind_to_cand[['TR_DT_NEW', 'TRANSACTION_AMT', 'STATE', 'NAME', 'ACTUAL_CAND']]], \n",
    "                     ignore_index=True)"
   ]
  },
  {
   "cell_type": "markdown",
   "metadata": {},
   "source": [
    "* And the same function again to create a dataframe with all the expenditures"
   ]
  },
  {
   "cell_type": "code",
   "execution_count": 34,
   "metadata": {},
   "outputs": [],
   "source": [
    "all_exp = pd.concat([fec_trump_clinton[['TR_DT_NEW', 'TRANSACTION_AMT', 'STATE', 'NAME', 'ACTUAL_CAND']]\\\n",
    "                     .loc[fec_trump_clinton['TRANSACTION_TP'].isin(['24A', '24E'])],\n",
    "                     oppexp[['TR_DT_NEW', 'TRANSACTION_AMT', 'STATE', 'NAME', 'ACTUAL_CAND']]], \n",
    "                     ignore_index=True)"
   ]
  },
  {
   "cell_type": "markdown",
   "metadata": {},
   "source": [
    "* With the `groupby` function we find the contributions by month for both candidates together and for each of them separately.\n",
    "* We do the same for the expenditures."
   ]
  },
  {
   "cell_type": "code",
   "execution_count": 35,
   "metadata": {},
   "outputs": [],
   "source": [
    "all_contr_by_month = all_contr\\\n",
    "    .groupby(\"TR_DT_NEW\")[\"TRANSACTION_AMT\"].sum()\\\n",
    "    .to_frame()\n",
    "trump_contr_by_month = all_contr[all_contr[\"ACTUAL_CAND\"] == \"Donald Trump\"]\\\n",
    "    .groupby(\"TR_DT_NEW\")[\"TRANSACTION_AMT\"].sum()\\\n",
    "    .to_frame()\n",
    "clinton_contr_by_month = all_contr[all_contr[\"ACTUAL_CAND\"] == \"Hillary Clinton\"]\\\n",
    "    .groupby(\"TR_DT_NEW\")[\"TRANSACTION_AMT\"].sum()\\\n",
    "    .to_frame()\n",
    "all_exp_by_month = all_exp\\\n",
    "    .groupby(\"TR_DT_NEW\")[\"TRANSACTION_AMT\"].sum()\\\n",
    "    .to_frame()\n",
    "trump_exp_by_month = all_exp[all_exp[\"ACTUAL_CAND\"] == \"Donald Trump\"]\\\n",
    "    .groupby(\"TR_DT_NEW\")[\"TRANSACTION_AMT\"].sum()\\\n",
    "    .to_frame()\n",
    "clinton_exp_by_month = all_exp[all_exp[\"ACTUAL_CAND\"] == \"Hillary Clinton\"]\\\n",
    "    .groupby(\"TR_DT_NEW\")[\"TRANSACTION_AMT\"].sum()\\\n",
    "    .to_frame()"
   ]
  },
  {
   "cell_type": "markdown",
   "metadata": {},
   "source": [
    "* We `merge` the information obtained above with a dataframe containing all the month-starting dates for the period we are interested in. We do this to avoid having no data for some months."
   ]
  },
  {
   "cell_type": "code",
   "execution_count": 36,
   "metadata": {},
   "outputs": [],
   "source": [
    "all_starts_of_month = pd.date_range(start='2015-01-05', end='2016-11-07', freq='MS').to_frame()\n",
    "all_starts_of_month.columns = [\"TR_DT_NEW\"]\n",
    "# All contributions\n",
    "all_contr_by_month = pd.merge(all_contr_by_month['TRANSACTION_AMT'], \n",
    "                             all_starts_of_month['TR_DT_NEW'],\n",
    "                             how='right',\n",
    "                             on=\"TR_DT_NEW\").fillna(0).sort_values(by=[\"TR_DT_NEW\"])\n",
    "# Contributions for Trump\n",
    "trump_contr_by_month = pd.merge(trump_contr_by_month['TRANSACTION_AMT'], \n",
    "                             all_starts_of_month['TR_DT_NEW'],\n",
    "                             how='right',\n",
    "                             on=\"TR_DT_NEW\").fillna(0).sort_values(by=[\"TR_DT_NEW\"])\n",
    "# Contributions for Clinton\n",
    "clinton_contr_by_month = pd.merge(clinton_contr_by_month['TRANSACTION_AMT'], \n",
    "                             all_starts_of_month['TR_DT_NEW'],\n",
    "                             how='right',\n",
    "                             on=\"TR_DT_NEW\").fillna(0).sort_values(by=[\"TR_DT_NEW\"])\n",
    "# All expenditures\n",
    "all_exp_by_month = pd.merge(all_exp_by_month['TRANSACTION_AMT'], \n",
    "                             all_starts_of_month['TR_DT_NEW'],\n",
    "                             how='right',\n",
    "                             on=\"TR_DT_NEW\").fillna(0).sort_values(by=[\"TR_DT_NEW\"])\n",
    "# Expenditures for Trump\n",
    "trump_exp_by_month = pd.merge(trump_exp_by_month['TRANSACTION_AMT'], \n",
    "                             all_starts_of_month['TR_DT_NEW'],\n",
    "                             how='right',\n",
    "                             on=\"TR_DT_NEW\").fillna(0).sort_values(by=[\"TR_DT_NEW\"])\n",
    "# Expenditures for Clinton\n",
    "clinton_exp_by_month = pd.merge(clinton_exp_by_month['TRANSACTION_AMT'], \n",
    "                             all_starts_of_month['TR_DT_NEW'],\n",
    "                             how='right',\n",
    "                             on=\"TR_DT_NEW\").fillna(0).sort_values(by=[\"TR_DT_NEW\"])"
   ]
  },
  {
   "cell_type": "markdown",
   "metadata": {},
   "source": [
    "* And now we plot the contributions and the expenditures by month. Here we plot the total contributions and expenditures (that means the sum of the ammounts fot the two candidates' campaigns)"
   ]
  },
  {
   "cell_type": "code",
   "execution_count": 37,
   "metadata": {},
   "outputs": [
    {
     "data": {
      "text/plain": [
       "Text(0.5, 1.0, 'Chronological evolution of campaign expenditures')"
      ]
     },
     "execution_count": 37,
     "metadata": {},
     "output_type": "execute_result"
    },
    {
     "data": {
      "image/png": "[encoded data removed]",
      "text/plain": [
       "<Figure size 1152x720 with 1 Axes>"
      ]
     },
     "metadata": {
      "needs_background": "light"
     },
     "output_type": "display_data"
    }
   ],
   "source": [
    "import matplotlib.pyplot as plt\n",
    "\n",
    "%matplotlib inline\n",
    "\n",
    "plt.figure(figsize=(16, 10))\n",
    "plt.ticklabel_format(style = 'plain')\n",
    "plt.plot(all_contr_by_month['TR_DT_NEW'], all_contr_by_month['TRANSACTION_AMT'], label = 'All contributions to campaigns')\n",
    "plt.plot(all_exp_by_month['TR_DT_NEW'], all_exp_by_month['TRANSACTION_AMT'], label = 'All campaign expenditures')\n",
    "plt.xlabel('Time')\n",
    "plt.ylabel('Dollars (logarithmic scale)')\n",
    "\n",
    "plt.title(\"Chronological evolution of campaign expenditures\")\n"
   ]
  },
  {
   "cell_type": "markdown",
   "metadata": {},
   "source": [
    "* We now do the same but by candidate. Blue is used for Clinton and red for Trump since these are the colors of the Democrats and the Republicans respectively."
   ]
  },
  {
   "cell_type": "code",
   "execution_count": 38,
   "metadata": {},
   "outputs": [
    {
     "data": {
      "text/plain": [
       "<matplotlib.legend.Legend at 0x279e94b0240>"
      ]
     },
     "execution_count": 38,
     "metadata": {},
     "output_type": "execute_result"
    },
    {
     "data": {
      "image/png": "[encoded data removed]",
      "text/plain": [
       "<Figure size 1152x720 with 1 Axes>"
      ]
     },
     "metadata": {
      "needs_background": "light"
     },
     "output_type": "display_data"
    }
   ],
   "source": [
    "plt.figure(figsize=(16, 10))\n",
    "plt.ticklabel_format(style = 'plain')\n",
    "plt.plot(trump_contr_by_month['TR_DT_NEW'], trump_contr_by_month['TRANSACTION_AMT'], \n",
    "         label = 'Contributions to Trump\\'s campaigns', color='r', linestyle='dashed')\n",
    "plt.plot(trump_exp_by_month['TR_DT_NEW'], trump_exp_by_month['TRANSACTION_AMT'], \n",
    "         label = 'Trump\\'s campaign expenditures', color='r')\n",
    "plt.plot(clinton_contr_by_month['TR_DT_NEW'], clinton_contr_by_month['TRANSACTION_AMT'], \n",
    "         label = 'Contributions to Clinton\\'s campaigns', color='b', linestyle='dashed')\n",
    "plt.plot(clinton_exp_by_month['TR_DT_NEW'], clinton_exp_by_month['TRANSACTION_AMT'], \n",
    "         label = 'Clinton\\'s campaign expenditures', color='b')\n",
    "plt.xlabel('Time')\n",
    "plt.ylabel('Dollars (logarithmic scale)')\n",
    "\n",
    "plt.title(\"Chronological evolution of campaign expenditures\")\n",
    "\n",
    "plt.legend()"
   ]
  },
  {
   "cell_type": "markdown",
   "metadata": {},
   "source": [
    "## Comments on the results of question 3\n",
    "\n",
    "* We can in the diagrams that the expenditures made by and contributions made to the campaigns increased the time before the election.\n",
    "* We can also see that Clinton's campaign received more contributions and made more expenditures than Trump's.\n",
    "* The contributions and expenditures in the diagram appear to be falling at November. That is because the days of Novemeber before the elections were only 7 which is very little compared to the about 30 days the other months have."
   ]
  },
  {
   "cell_type": "markdown",
   "metadata": {},
   "source": [
    "## Question 4\n",
    "\n",
    "**Identify the biggest recipients of campaign expenditures.**\n",
    "\n",
    "* The contributions of the campaigns' money to people/corporations (not to other PACs/other committees) are mostly either from independent expenditures or operating expenditures. We will find the top recipients for each kind of expenditures and merge them in a way that sums the two kinds of expenditures if the recipient is the same.\n",
    "* First we find the recipients for independent expenditures (transaction types \"24A\" and \"24E\" are for independent expenditures as one can see [here](https://www.fec.gov/campaign-finance-data/transaction-type-code-descriptions/)):"
   ]
  },
  {
   "cell_type": "code",
   "execution_count": 39,
   "metadata": {},
   "outputs": [
    {
     "data": {
      "text/html": [
       "<div>\n",
       "<style scoped>\n",
       "    .dataframe tbody tr th:only-of-type {\n",
       "        vertical-align: middle;\n",
       "    }\n",
       "\n",
       "    .dataframe tbody tr th {\n",
       "        vertical-align: top;\n",
       "    }\n",
       "\n",
       "    .dataframe thead th {\n",
       "        text-align: right;\n",
       "    }\n",
       "</style>\n",
       "<table border=\"1\" class=\"dataframe\">\n",
       "  <thead>\n",
       "    <tr style=\"text-align: right;\">\n",
       "      <th></th>\n",
       "      <th>TRANSACTION_AMT</th>\n",
       "    </tr>\n",
       "    <tr>\n",
       "      <th>NAME</th>\n",
       "      <th></th>\n",
       "    </tr>\n",
       "  </thead>\n",
       "  <tbody>\n",
       "    <tr>\n",
       "      <th>TARGETED PLATFORM MEDIA LLC</th>\n",
       "      <td>1.005688e+08</td>\n",
       "    </tr>\n",
       "    <tr>\n",
       "      <th>AMERICAN EXPRESS</th>\n",
       "      <td>3.084654e+07</td>\n",
       "    </tr>\n",
       "    <tr>\n",
       "      <th>BULLY PULPIT INTERACTIVE LLC</th>\n",
       "      <td>2.789344e+07</td>\n",
       "    </tr>\n",
       "    <tr>\n",
       "      <th>PRECISION NETWORK LLC</th>\n",
       "      <td>2.567816e+07</td>\n",
       "    </tr>\n",
       "    <tr>\n",
       "      <th>COMMUNICATIONS CORPORATION OF AMERICA</th>\n",
       "      <td>2.549641e+07</td>\n",
       "    </tr>\n",
       "    <tr>\n",
       "      <th>ADP, INC.</th>\n",
       "      <td>2.025903e+07</td>\n",
       "    </tr>\n",
       "    <tr>\n",
       "      <th>MULTI MEDIA SERVICES CORPORATION</th>\n",
       "      <td>1.898062e+07</td>\n",
       "    </tr>\n",
       "    <tr>\n",
       "      <th>DEL CIELO MEDIA</th>\n",
       "      <td>1.782500e+07</td>\n",
       "    </tr>\n",
       "    <tr>\n",
       "      <th>RWT PRODUCTION LLC</th>\n",
       "      <td>1.631507e+07</td>\n",
       "    </tr>\n",
       "    <tr>\n",
       "      <th>REPUBLICAN NATIONAL COMMITTEE</th>\n",
       "      <td>1.594150e+07</td>\n",
       "    </tr>\n",
       "  </tbody>\n",
       "</table>\n",
       "</div>"
      ],
      "text/plain": [
       "                                       TRANSACTION_AMT\n",
       "NAME                                                  \n",
       "TARGETED PLATFORM MEDIA LLC               1.005688e+08\n",
       "AMERICAN EXPRESS                          3.084654e+07\n",
       "BULLY PULPIT INTERACTIVE LLC              2.789344e+07\n",
       "PRECISION NETWORK LLC                     2.567816e+07\n",
       "COMMUNICATIONS CORPORATION OF AMERICA     2.549641e+07\n",
       "ADP, INC.                                 2.025903e+07\n",
       "MULTI MEDIA SERVICES CORPORATION          1.898062e+07\n",
       "DEL CIELO MEDIA                           1.782500e+07\n",
       "RWT PRODUCTION LLC                        1.631507e+07\n",
       "REPUBLICAN NATIONAL COMMITTEE             1.594150e+07"
      ]
     },
     "execution_count": 39,
     "metadata": {},
     "output_type": "execute_result"
    }
   ],
   "source": [
    "top_receivers = all_exp.groupby(\"NAME\")[\"TRANSACTION_AMT\"].sum().sort_values(ascending=False).to_frame()\n",
    "top_receivers.head(10)"
   ]
  },
  {
   "cell_type": "markdown",
   "metadata": {},
   "source": [
    "* We see that a committee appears. We don't want committees as final top-recipients so we will remove it manually. We will later do the same for the top-recipients of money from Trump's campaign.\n",
    "* We do this and we find the top-10 final recipients.\n",
    "* We also convert the ammounts received by each one of them to an int to be able to read them better."
   ]
  },
  {
   "cell_type": "code",
   "execution_count": 40,
   "metadata": {},
   "outputs": [
    {
     "data": {
      "text/html": [
       "<div>\n",
       "<style scoped>\n",
       "    .dataframe tbody tr th:only-of-type {\n",
       "        vertical-align: middle;\n",
       "    }\n",
       "\n",
       "    .dataframe tbody tr th {\n",
       "        vertical-align: top;\n",
       "    }\n",
       "\n",
       "    .dataframe thead th {\n",
       "        text-align: right;\n",
       "    }\n",
       "</style>\n",
       "<table border=\"1\" class=\"dataframe\">\n",
       "  <thead>\n",
       "    <tr style=\"text-align: right;\">\n",
       "      <th></th>\n",
       "      <th>Ammount received</th>\n",
       "    </tr>\n",
       "    <tr>\n",
       "      <th>NAME</th>\n",
       "      <th></th>\n",
       "    </tr>\n",
       "  </thead>\n",
       "  <tbody>\n",
       "    <tr>\n",
       "      <th>TARGETED PLATFORM MEDIA LLC</th>\n",
       "      <td>100568756</td>\n",
       "    </tr>\n",
       "    <tr>\n",
       "      <th>AMERICAN EXPRESS</th>\n",
       "      <td>30846541</td>\n",
       "    </tr>\n",
       "    <tr>\n",
       "      <th>BULLY PULPIT INTERACTIVE LLC</th>\n",
       "      <td>27893444</td>\n",
       "    </tr>\n",
       "    <tr>\n",
       "      <th>PRECISION NETWORK LLC</th>\n",
       "      <td>25678160</td>\n",
       "    </tr>\n",
       "    <tr>\n",
       "      <th>COMMUNICATIONS CORPORATION OF AMERICA</th>\n",
       "      <td>25496410</td>\n",
       "    </tr>\n",
       "    <tr>\n",
       "      <th>ADP, INC.</th>\n",
       "      <td>20259032</td>\n",
       "    </tr>\n",
       "    <tr>\n",
       "      <th>MULTI MEDIA SERVICES CORPORATION</th>\n",
       "      <td>18980619</td>\n",
       "    </tr>\n",
       "    <tr>\n",
       "      <th>DEL CIELO MEDIA</th>\n",
       "      <td>17825000</td>\n",
       "    </tr>\n",
       "    <tr>\n",
       "      <th>RWT PRODUCTION LLC</th>\n",
       "      <td>16315067</td>\n",
       "    </tr>\n",
       "    <tr>\n",
       "      <th>TERRA STRATEGIES, LLC</th>\n",
       "      <td>14934261</td>\n",
       "    </tr>\n",
       "  </tbody>\n",
       "</table>\n",
       "</div>"
      ],
      "text/plain": [
       "                                       Ammount received\n",
       "NAME                                                   \n",
       "TARGETED PLATFORM MEDIA LLC                   100568756\n",
       "AMERICAN EXPRESS                               30846541\n",
       "BULLY PULPIT INTERACTIVE LLC                   27893444\n",
       "PRECISION NETWORK LLC                          25678160\n",
       "COMMUNICATIONS CORPORATION OF AMERICA          25496410\n",
       "ADP, INC.                                      20259032\n",
       "MULTI MEDIA SERVICES CORPORATION               18980619\n",
       "DEL CIELO MEDIA                                17825000\n",
       "RWT PRODUCTION LLC                             16315067\n",
       "TERRA STRATEGIES, LLC                          14934261"
      ]
     },
     "execution_count": 40,
     "metadata": {},
     "output_type": "execute_result"
    }
   ],
   "source": [
    "top_receivers.drop(\"REPUBLICAN NATIONAL COMMITTEE\", inplace=True)\n",
    "top_receivers.rename(columns={'TRANSACTION_AMT': 'Ammount received'}, inplace=True)\n",
    "top_receivers['Ammount received'] = top_receivers['Ammount received'].astype(int)\n",
    "top_receivers.head(10)"
   ]
  },
  {
   "cell_type": "markdown",
   "metadata": {},
   "source": [
    "* Similarly we will use a group by to find the top recipients of money from Clinton's campaign:"
   ]
  },
  {
   "cell_type": "code",
   "execution_count": 41,
   "metadata": {},
   "outputs": [
    {
     "data": {
      "text/html": [
       "<div>\n",
       "<style scoped>\n",
       "    .dataframe tbody tr th:only-of-type {\n",
       "        vertical-align: middle;\n",
       "    }\n",
       "\n",
       "    .dataframe tbody tr th {\n",
       "        vertical-align: top;\n",
       "    }\n",
       "\n",
       "    .dataframe thead th {\n",
       "        text-align: right;\n",
       "    }\n",
       "</style>\n",
       "<table border=\"1\" class=\"dataframe\">\n",
       "  <thead>\n",
       "    <tr style=\"text-align: right;\">\n",
       "      <th></th>\n",
       "      <th>Ammount received</th>\n",
       "    </tr>\n",
       "    <tr>\n",
       "      <th>NAME</th>\n",
       "      <th></th>\n",
       "    </tr>\n",
       "  </thead>\n",
       "  <tbody>\n",
       "    <tr>\n",
       "      <th>TARGETED PLATFORM MEDIA LLC</th>\n",
       "      <td>100568756</td>\n",
       "    </tr>\n",
       "    <tr>\n",
       "      <th>BULLY PULPIT INTERACTIVE LLC</th>\n",
       "      <td>27893444</td>\n",
       "    </tr>\n",
       "    <tr>\n",
       "      <th>PRECISION NETWORK LLC</th>\n",
       "      <td>25678160</td>\n",
       "    </tr>\n",
       "    <tr>\n",
       "      <th>ADP, INC.</th>\n",
       "      <td>20259032</td>\n",
       "    </tr>\n",
       "    <tr>\n",
       "      <th>AMERICAN EXPRESS</th>\n",
       "      <td>17423139</td>\n",
       "    </tr>\n",
       "    <tr>\n",
       "      <th>RWT PRODUCTION LLC</th>\n",
       "      <td>16315067</td>\n",
       "    </tr>\n",
       "    <tr>\n",
       "      <th>TERRA STRATEGIES, LLC</th>\n",
       "      <td>14934261</td>\n",
       "    </tr>\n",
       "    <tr>\n",
       "      <th>NEXUS DIRECT</th>\n",
       "      <td>14105683</td>\n",
       "    </tr>\n",
       "    <tr>\n",
       "      <th>BLUEWEST MEDIA</th>\n",
       "      <td>12565123</td>\n",
       "    </tr>\n",
       "    <tr>\n",
       "      <th>PAYROLL DATA PROCESSING</th>\n",
       "      <td>9994653</td>\n",
       "    </tr>\n",
       "  </tbody>\n",
       "</table>\n",
       "</div>"
      ],
      "text/plain": [
       "                              Ammount received\n",
       "NAME                                          \n",
       "TARGETED PLATFORM MEDIA LLC          100568756\n",
       "BULLY PULPIT INTERACTIVE LLC          27893444\n",
       "PRECISION NETWORK LLC                 25678160\n",
       "ADP, INC.                             20259032\n",
       "AMERICAN EXPRESS                      17423139\n",
       "RWT PRODUCTION LLC                    16315067\n",
       "TERRA STRATEGIES, LLC                 14934261\n",
       "NEXUS DIRECT                          14105683\n",
       "BLUEWEST MEDIA                        12565123\n",
       "PAYROLL DATA PROCESSING                9994653"
      ]
     },
     "execution_count": 41,
     "metadata": {},
     "output_type": "execute_result"
    }
   ],
   "source": [
    "top_receivers_clinton = all_exp[all_exp['ACTUAL_CAND'] == 'Hillary Clinton']\\\n",
    "                                .groupby(\"NAME\")[\"TRANSACTION_AMT\"].sum()\\\n",
    "                                .sort_values(ascending=False).to_frame()\n",
    "top_receivers_clinton.rename(columns={'TRANSACTION_AMT': 'Ammount received'}, inplace=True)\n",
    "top_receivers_clinton['Ammount received'] = top_receivers_clinton['Ammount received'].astype(int)\n",
    "top_receivers_clinton.head(10)"
   ]
  },
  {
   "cell_type": "markdown",
   "metadata": {},
   "source": [
    "* And now for the top recipients from Trump's campaign:"
   ]
  },
  {
   "cell_type": "code",
   "execution_count": 42,
   "metadata": {},
   "outputs": [
    {
     "data": {
      "text/html": [
       "<div>\n",
       "<style scoped>\n",
       "    .dataframe tbody tr th:only-of-type {\n",
       "        vertical-align: middle;\n",
       "    }\n",
       "\n",
       "    .dataframe tbody tr th {\n",
       "        vertical-align: top;\n",
       "    }\n",
       "\n",
       "    .dataframe thead th {\n",
       "        text-align: right;\n",
       "    }\n",
       "</style>\n",
       "<table border=\"1\" class=\"dataframe\">\n",
       "  <thead>\n",
       "    <tr style=\"text-align: right;\">\n",
       "      <th></th>\n",
       "      <th>Ammount received</th>\n",
       "    </tr>\n",
       "    <tr>\n",
       "      <th>NAME</th>\n",
       "      <th></th>\n",
       "    </tr>\n",
       "  </thead>\n",
       "  <tbody>\n",
       "    <tr>\n",
       "      <th>COMMUNICATIONS CORPORATION OF AMERICA</th>\n",
       "      <td>25496410</td>\n",
       "    </tr>\n",
       "    <tr>\n",
       "      <th>MULTI MEDIA SERVICES CORPORATION</th>\n",
       "      <td>18980619</td>\n",
       "    </tr>\n",
       "    <tr>\n",
       "      <th>DEL CIELO MEDIA</th>\n",
       "      <td>17825000</td>\n",
       "    </tr>\n",
       "    <tr>\n",
       "      <th>STARBOARD STRATEGIC</th>\n",
       "      <td>13842906</td>\n",
       "    </tr>\n",
       "    <tr>\n",
       "      <th>AMERICAN EXPRESS</th>\n",
       "      <td>13423402</td>\n",
       "    </tr>\n",
       "    <tr>\n",
       "      <th>INTERNAL REVENUE SERVICE</th>\n",
       "      <td>10463223</td>\n",
       "    </tr>\n",
       "    <tr>\n",
       "      <th>FLS CONNECT LLC</th>\n",
       "      <td>9043105</td>\n",
       "    </tr>\n",
       "    <tr>\n",
       "      <th>SOUTHWEST PUBLISHING AND MAILING CORPORATION</th>\n",
       "      <td>8975782</td>\n",
       "    </tr>\n",
       "    <tr>\n",
       "      <th>STARBOARD STRATEGIC, INC.</th>\n",
       "      <td>8936541</td>\n",
       "    </tr>\n",
       "    <tr>\n",
       "      <th>GOP DATA TRUST LLC</th>\n",
       "      <td>6756283</td>\n",
       "    </tr>\n",
       "  </tbody>\n",
       "</table>\n",
       "</div>"
      ],
      "text/plain": [
       "                                              Ammount received\n",
       "NAME                                                          \n",
       "COMMUNICATIONS CORPORATION OF AMERICA                 25496410\n",
       "MULTI MEDIA SERVICES CORPORATION                      18980619\n",
       "DEL CIELO MEDIA                                       17825000\n",
       "STARBOARD STRATEGIC                                   13842906\n",
       "AMERICAN EXPRESS                                      13423402\n",
       "INTERNAL REVENUE SERVICE                              10463223\n",
       "FLS CONNECT LLC                                        9043105\n",
       "SOUTHWEST PUBLISHING AND MAILING CORPORATION           8975782\n",
       "STARBOARD STRATEGIC, INC.                              8936541\n",
       "GOP DATA TRUST LLC                                     6756283"
      ]
     },
     "execution_count": 42,
     "metadata": {},
     "output_type": "execute_result"
    }
   ],
   "source": [
    "top_receivers_trump = all_exp[all_exp['ACTUAL_CAND'] == 'Donald Trump']\\\n",
    "                                .groupby(\"NAME\")[\"TRANSACTION_AMT\"].sum()\\\n",
    "                                .sort_values(ascending=False).to_frame()\n",
    "top_receivers_trump.drop(\"REPUBLICAN NATIONAL COMMITTEE\", inplace=True)\n",
    "top_receivers_trump.rename(columns={'TRANSACTION_AMT': 'Ammount received'}, inplace=True)\n",
    "top_receivers_trump['Ammount received'] = top_receivers_trump['Ammount received'].astype(int)\n",
    "top_receivers_trump.head(10)"
   ]
  },
  {
   "cell_type": "markdown",
   "metadata": {},
   "source": [
    "## Comments on the results of question 4\n",
    "\n",
    "* We see that the top receipients of money from Clinton's campaign generally get more money. This is not strange if we think that her campaign had more expenditures than Trump's  in total.\n",
    "* Many of the top recipients for both campaigns are network/communications/campaign companies, which was to be expected since campaigns are essentially marketing (so they need to reach a lot of people to get the wanted results).\n",
    "* Most of the top receipients are either on Trump's or Clinton's side, having income almost exclusively from one of the two campaigns. The only exception to this rule is \"American Express\" which appears to be taking money from both opposing sides."
   ]
  },
  {
   "cell_type": "markdown",
   "metadata": {},
   "source": [
    "## Question 5\n",
    "\n",
    "**Examine the geographical distribution, at the state level, of campaign expenditures. For each state, calculate the expenditures per voter. This will require that you find a source with the number of registered voters per state. Examine the situation for swing states.**\n",
    "\n",
    "* For this question we need to get the number of eligible voters per state. We downloaded the .csv file that we found [here](http://www.electproject.org/2016g), put it in the data folder and read it with pandas"
   ]
  },
  {
   "cell_type": "code",
   "execution_count": 43,
   "metadata": {},
   "outputs": [
    {
     "data": {
      "text/html": [
       "<div>\n",
       "<style scoped>\n",
       "    .dataframe tbody tr th:only-of-type {\n",
       "        vertical-align: middle;\n",
       "    }\n",
       "\n",
       "    .dataframe tbody tr th {\n",
       "        vertical-align: top;\n",
       "    }\n",
       "\n",
       "    .dataframe thead th {\n",
       "        text-align: right;\n",
       "    }\n",
       "</style>\n",
       "<table border=\"1\" class=\"dataframe\">\n",
       "  <thead>\n",
       "    <tr style=\"text-align: right;\">\n",
       "      <th></th>\n",
       "      <th>State</th>\n",
       "      <th>Unnamed: 1</th>\n",
       "      <th>Unnamed: 2</th>\n",
       "      <th>Turnout Rates</th>\n",
       "      <th>Unnamed: 4</th>\n",
       "      <th>Unnamed: 5</th>\n",
       "      <th>Numerators</th>\n",
       "      <th>Unnamed: 7</th>\n",
       "      <th>Denominators</th>\n",
       "      <th>Unnamed: 9</th>\n",
       "      <th>VEP Components (Modifications to VAP to Calculate VEP)</th>\n",
       "      <th>Unnamed: 11</th>\n",
       "      <th>Unnamed: 12</th>\n",
       "      <th>Unnamed: 13</th>\n",
       "      <th>Unnamed: 14</th>\n",
       "      <th>Unnamed: 15</th>\n",
       "      <th>Unnamed: 16</th>\n",
       "    </tr>\n",
       "  </thead>\n",
       "  <tbody>\n",
       "    <tr>\n",
       "      <th>0</th>\n",
       "      <td>NaN</td>\n",
       "      <td>State Results Website</td>\n",
       "      <td>Status</td>\n",
       "      <td>VEP Total Ballots Counted</td>\n",
       "      <td>VEP Highest Office</td>\n",
       "      <td>VAP Highest Office</td>\n",
       "      <td>Total Ballots Counted (Estimate)</td>\n",
       "      <td>Highest Office</td>\n",
       "      <td>Voting-Eligible Population (VEP)</td>\n",
       "      <td>Voting-Age Population (VAP)</td>\n",
       "      <td>% Non-citizen</td>\n",
       "      <td>Prison</td>\n",
       "      <td>Probation</td>\n",
       "      <td>Parole</td>\n",
       "      <td>Total Ineligible Felon</td>\n",
       "      <td>Overseas Eligible</td>\n",
       "      <td>State Abv</td>\n",
       "    </tr>\n",
       "    <tr>\n",
       "      <th>1</th>\n",
       "      <td>United States</td>\n",
       "      <td>NaN</td>\n",
       "      <td>NaN</td>\n",
       "      <td>60.1%</td>\n",
       "      <td>59.2%</td>\n",
       "      <td>54.7%</td>\n",
       "      <td>138,846,571</td>\n",
       "      <td>136,753,936</td>\n",
       "      <td>230,931,921</td>\n",
       "      <td>250,055,734</td>\n",
       "      <td>8.3%</td>\n",
       "      <td>1,416,810</td>\n",
       "      <td>2,198,907</td>\n",
       "      <td>506,297</td>\n",
       "      <td>3,176,484</td>\n",
       "      <td>4,739,596</td>\n",
       "      <td>NaN</td>\n",
       "    </tr>\n",
       "    <tr>\n",
       "      <th>2</th>\n",
       "      <td>Alabama</td>\n",
       "      <td>http://www.alabamavotes.gov/downloads/election...</td>\n",
       "      <td>Official</td>\n",
       "      <td>59.1%</td>\n",
       "      <td>58.8%</td>\n",
       "      <td>56.3%</td>\n",
       "      <td>2,134,061</td>\n",
       "      <td>2,123,372</td>\n",
       "      <td>3,609,447</td>\n",
       "      <td>3,770,142</td>\n",
       "      <td>2.5%</td>\n",
       "      <td>28,680</td>\n",
       "      <td>52,177</td>\n",
       "      <td>8,562</td>\n",
       "      <td>66,983</td>\n",
       "      <td>NaN</td>\n",
       "      <td>AL</td>\n",
       "    </tr>\n",
       "    <tr>\n",
       "      <th>3</th>\n",
       "      <td>Alaska</td>\n",
       "      <td>http://www.elections.alaska.gov/results/16GENR/</td>\n",
       "      <td>Official</td>\n",
       "      <td>61.5%</td>\n",
       "      <td>61.0%</td>\n",
       "      <td>57.4%</td>\n",
       "      <td>321,271</td>\n",
       "      <td>318,608</td>\n",
       "      <td>522,679</td>\n",
       "      <td>555,367</td>\n",
       "      <td>4.1%</td>\n",
       "      <td>4,317</td>\n",
       "      <td>6,621</td>\n",
       "      <td>1,812</td>\n",
       "      <td>9,903</td>\n",
       "      <td>NaN</td>\n",
       "      <td>AK</td>\n",
       "    </tr>\n",
       "    <tr>\n",
       "      <th>4</th>\n",
       "      <td>Arizona</td>\n",
       "      <td>http://apps.azsos.gov/election/2016/General/Of...</td>\n",
       "      <td>Official</td>\n",
       "      <td>56.1%</td>\n",
       "      <td>54.9%</td>\n",
       "      <td>48.9%</td>\n",
       "      <td>2,661,497</td>\n",
       "      <td>2,604,657</td>\n",
       "      <td>4,740,310</td>\n",
       "      <td>5,331,034</td>\n",
       "      <td>9.4%</td>\n",
       "      <td>37,582</td>\n",
       "      <td>77,373</td>\n",
       "      <td>7,500</td>\n",
       "      <td>89,185</td>\n",
       "      <td>NaN</td>\n",
       "      <td>AZ</td>\n",
       "    </tr>\n",
       "  </tbody>\n",
       "</table>\n",
       "</div>"
      ],
      "text/plain": [
       "           State                                         Unnamed: 1  \\\n",
       "0            NaN                              State Results Website   \n",
       "1  United States                                                NaN   \n",
       "2        Alabama  http://www.alabamavotes.gov/downloads/election...   \n",
       "3         Alaska    http://www.elections.alaska.gov/results/16GENR/   \n",
       "4        Arizona  http://apps.azsos.gov/election/2016/General/Of...   \n",
       "\n",
       "  Unnamed: 2              Turnout Rates          Unnamed: 4  \\\n",
       "0     Status  VEP Total Ballots Counted  VEP Highest Office   \n",
       "1        NaN                      60.1%               59.2%   \n",
       "2   Official                      59.1%               58.8%   \n",
       "3   Official                      61.5%               61.0%   \n",
       "4   Official                      56.1%               54.9%   \n",
       "\n",
       "           Unnamed: 5                        Numerators      Unnamed: 7  \\\n",
       "0  VAP Highest Office  Total Ballots Counted (Estimate)  Highest Office   \n",
       "1               54.7%                       138,846,571     136,753,936   \n",
       "2               56.3%                         2,134,061       2,123,372   \n",
       "3               57.4%                           321,271         318,608   \n",
       "4               48.9%                         2,661,497       2,604,657   \n",
       "\n",
       "                       Denominators                   Unnamed: 9  \\\n",
       "0  Voting-Eligible Population (VEP)  Voting-Age Population (VAP)   \n",
       "1                       230,931,921                  250,055,734   \n",
       "2                         3,609,447                    3,770,142   \n",
       "3                           522,679                      555,367   \n",
       "4                         4,740,310                    5,331,034   \n",
       "\n",
       "  VEP Components (Modifications to VAP to Calculate VEP) Unnamed: 11  \\\n",
       "0                                      % Non-citizen          Prison   \n",
       "1                                               8.3%       1,416,810   \n",
       "2                                               2.5%          28,680   \n",
       "3                                               4.1%           4,317   \n",
       "4                                               9.4%          37,582   \n",
       "\n",
       "  Unnamed: 12 Unnamed: 13             Unnamed: 14        Unnamed: 15  \\\n",
       "0   Probation      Parole  Total Ineligible Felon  Overseas Eligible   \n",
       "1   2,198,907     506,297               3,176,484          4,739,596   \n",
       "2      52,177       8,562                  66,983                NaN   \n",
       "3       6,621       1,812                   9,903                NaN   \n",
       "4      77,373       7,500                  89,185                NaN   \n",
       "\n",
       "  Unnamed: 16  \n",
       "0   State Abv  \n",
       "1         NaN  \n",
       "2          AL  \n",
       "3          AK  \n",
       "4          AZ  "
      ]
     },
     "execution_count": 43,
     "metadata": {},
     "output_type": "execute_result"
    }
   ],
   "source": [
    "voters_by_state = pd.read_csv('data/eligible_voters.csv', sep=\",\", index_col=False)\n",
    "voters_by_state.head(5)"
   ]
  },
  {
   "cell_type": "markdown",
   "metadata": {},
   "source": [
    "* We see that there are some problems with the dataframe and that there are many columns we don't need. To fix this we read the file again (it's small so this isn't a problem), drop some rows, rename the columns to easier-to-remember names and add a column with the code of each state."
   ]
  },
  {
   "cell_type": "code",
   "execution_count": 44,
   "metadata": {},
   "outputs": [
    {
     "data": {
      "text/html": [
       "<div>\n",
       "<style scoped>\n",
       "    .dataframe tbody tr th:only-of-type {\n",
       "        vertical-align: middle;\n",
       "    }\n",
       "\n",
       "    .dataframe tbody tr th {\n",
       "        vertical-align: top;\n",
       "    }\n",
       "\n",
       "    .dataframe thead th {\n",
       "        text-align: right;\n",
       "    }\n",
       "</style>\n",
       "<table border=\"1\" class=\"dataframe\">\n",
       "  <thead>\n",
       "    <tr style=\"text-align: right;\">\n",
       "      <th></th>\n",
       "      <th>State</th>\n",
       "      <th>Voters</th>\n",
       "      <th>Code</th>\n",
       "    </tr>\n",
       "  </thead>\n",
       "  <tbody>\n",
       "    <tr>\n",
       "      <th>1</th>\n",
       "      <td>United States</td>\n",
       "      <td>230,931,921</td>\n",
       "      <td>USA</td>\n",
       "    </tr>\n",
       "    <tr>\n",
       "      <th>2</th>\n",
       "      <td>Alabama</td>\n",
       "      <td>3,609,447</td>\n",
       "      <td>AL</td>\n",
       "    </tr>\n",
       "    <tr>\n",
       "      <th>3</th>\n",
       "      <td>Alaska</td>\n",
       "      <td>522,679</td>\n",
       "      <td>AK</td>\n",
       "    </tr>\n",
       "    <tr>\n",
       "      <th>4</th>\n",
       "      <td>Arizona</td>\n",
       "      <td>4,740,310</td>\n",
       "      <td>AZ</td>\n",
       "    </tr>\n",
       "    <tr>\n",
       "      <th>5</th>\n",
       "      <td>Arkansas</td>\n",
       "      <td>2,140,097</td>\n",
       "      <td>AR</td>\n",
       "    </tr>\n",
       "  </tbody>\n",
       "</table>\n",
       "</div>"
      ],
      "text/plain": [
       "           State       Voters Code\n",
       "1  United States  230,931,921  USA\n",
       "2        Alabama    3,609,447   AL\n",
       "3         Alaska      522,679   AK\n",
       "4        Arizona    4,740,310   AZ\n",
       "5       Arkansas    2,140,097   AR"
      ]
     },
     "execution_count": 44,
     "metadata": {},
     "output_type": "execute_result"
    }
   ],
   "source": [
    "fields = [\"State\", \"Denominators\",\"Unnamed: 16\"]\n",
    "voters_by_state = pd.read_csv('data/eligible_voters.csv', sep=\",\", index_col=False, usecols=fields)\n",
    "voters_by_state.drop(voters_by_state.tail(1).index,inplace=True)\n",
    "voters_by_state.drop(voters_by_state.head(1).index,inplace=True)\n",
    "voters_by_state = voters_by_state.rename(columns={\"Denominators\": \"Voters\", \"Unnamed: 16\": \"Code\"})\n",
    "voters_by_state.loc[voters_by_state['State'] == 'United States', ['Code']] = 'USA'\n",
    "voters_by_state.head(5)"
   ]
  },
  {
   "cell_type": "markdown",
   "metadata": {},
   "source": [
    "* We use a `groupby` to get the expanditures by state. We also use a `merge` with the `voters_by_state` dataframe to ensure we get rid of invalid state codes and to have all the data we'll need in a single dataframe."
   ]
  },
  {
   "cell_type": "code",
   "execution_count": 45,
   "metadata": {},
   "outputs": [],
   "source": [
    "exp_by_state = all_exp[all_exp['STATE'].isin(voters_by_state[\"Code\"].tolist())]\\\n",
    "                       .groupby(\"STATE\")[\"TRANSACTION_AMT\"].sum()\\\n",
    "                       .sort_values(ascending=False).to_frame()\n",
    "exp_by_state.rename(columns={\"TRANSACTION_AMT\": \"State total\"}, inplace=True)\n",
    "exp_by_state = pd.merge(exp_by_state,\n",
    "                        voters_by_state,\n",
    "                        left_index=True,\n",
    "                        right_on=\"Code\",\n",
    "                        how='inner')"
   ]
  },
  {
   "cell_type": "markdown",
   "metadata": {},
   "source": [
    "* We create a new column with the expenditures per voter for each state. Before doing this we need to change the type of the `Voters` column which up to now was 'string' because of the commas in the numbers."
   ]
  },
  {
   "cell_type": "code",
   "execution_count": 46,
   "metadata": {},
   "outputs": [
    {
     "data": {
      "text/html": [
       "<div>\n",
       "<style scoped>\n",
       "    .dataframe tbody tr th:only-of-type {\n",
       "        vertical-align: middle;\n",
       "    }\n",
       "\n",
       "    .dataframe tbody tr th {\n",
       "        vertical-align: top;\n",
       "    }\n",
       "\n",
       "    .dataframe thead th {\n",
       "        text-align: right;\n",
       "    }\n",
       "</style>\n",
       "<table border=\"1\" class=\"dataframe\">\n",
       "  <thead>\n",
       "    <tr style=\"text-align: right;\">\n",
       "      <th></th>\n",
       "      <th>State total</th>\n",
       "      <th>State</th>\n",
       "      <th>Voters</th>\n",
       "      <th>Code</th>\n",
       "      <th>per_voter</th>\n",
       "    </tr>\n",
       "  </thead>\n",
       "  <tbody>\n",
       "    <tr>\n",
       "      <th>10</th>\n",
       "      <td>3.762136e+08</td>\n",
       "      <td>District of Columbia</td>\n",
       "      <td>515248.0</td>\n",
       "      <td>DC</td>\n",
       "      <td>730.160327</td>\n",
       "    </tr>\n",
       "    <tr>\n",
       "      <th>22</th>\n",
       "      <td>1.764768e+08</td>\n",
       "      <td>Maryland</td>\n",
       "      <td>4189616.0</td>\n",
       "      <td>MD</td>\n",
       "      <td>42.122421</td>\n",
       "    </tr>\n",
       "    <tr>\n",
       "      <th>48</th>\n",
       "      <td>2.338384e+08</td>\n",
       "      <td>Virginia</td>\n",
       "      <td>6027152.0</td>\n",
       "      <td>VA</td>\n",
       "      <td>38.797503</td>\n",
       "    </tr>\n",
       "    <tr>\n",
       "      <th>9</th>\n",
       "      <td>8.985659e+06</td>\n",
       "      <td>Delaware</td>\n",
       "      <td>691720.0</td>\n",
       "      <td>DE</td>\n",
       "      <td>12.990313</td>\n",
       "    </tr>\n",
       "    <tr>\n",
       "      <th>17</th>\n",
       "      <td>2.439773e+07</td>\n",
       "      <td>Iowa</td>\n",
       "      <td>2288536.0</td>\n",
       "      <td>IA</td>\n",
       "      <td>10.660847</td>\n",
       "    </tr>\n",
       "    <tr>\n",
       "      <th>28</th>\n",
       "      <td>2.885658e+05</td>\n",
       "      <td>Montana</td>\n",
       "      <td>804250.0</td>\n",
       "      <td>MT</td>\n",
       "      <td>0.358801</td>\n",
       "    </tr>\n",
       "    <tr>\n",
       "      <th>38</th>\n",
       "      <td>7.084789e+05</td>\n",
       "      <td>Oklahoma</td>\n",
       "      <td>2778219.0</td>\n",
       "      <td>OK</td>\n",
       "      <td>0.255012</td>\n",
       "    </tr>\n",
       "    <tr>\n",
       "      <th>36</th>\n",
       "      <td>9.352303e+04</td>\n",
       "      <td>North Dakota</td>\n",
       "      <td>566783.0</td>\n",
       "      <td>ND</td>\n",
       "      <td>0.165007</td>\n",
       "    </tr>\n",
       "    <tr>\n",
       "      <th>14</th>\n",
       "      <td>1.552689e+05</td>\n",
       "      <td>Idaho</td>\n",
       "      <td>1166706.0</td>\n",
       "      <td>ID</td>\n",
       "      <td>0.133083</td>\n",
       "    </tr>\n",
       "    <tr>\n",
       "      <th>13</th>\n",
       "      <td>5.782868e+04</td>\n",
       "      <td>Hawaii</td>\n",
       "      <td>1012860.0</td>\n",
       "      <td>HI</td>\n",
       "      <td>0.057094</td>\n",
       "    </tr>\n",
       "  </tbody>\n",
       "</table>\n",
       "</div>"
      ],
      "text/plain": [
       "     State total                 State     Voters Code   per_voter\n",
       "10  3.762136e+08  District of Columbia   515248.0   DC  730.160327\n",
       "22  1.764768e+08              Maryland  4189616.0   MD   42.122421\n",
       "48  2.338384e+08              Virginia  6027152.0   VA   38.797503\n",
       "9   8.985659e+06              Delaware   691720.0   DE   12.990313\n",
       "17  2.439773e+07                  Iowa  2288536.0   IA   10.660847\n",
       "28  2.885658e+05               Montana   804250.0   MT    0.358801\n",
       "38  7.084789e+05              Oklahoma  2778219.0   OK    0.255012\n",
       "36  9.352303e+04          North Dakota   566783.0   ND    0.165007\n",
       "14  1.552689e+05                 Idaho  1166706.0   ID    0.133083\n",
       "13  5.782868e+04                Hawaii  1012860.0   HI    0.057094"
      ]
     },
     "execution_count": 46,
     "metadata": {},
     "output_type": "execute_result"
    }
   ],
   "source": [
    "exp_by_state[\"Voters\"] = exp_by_state[\"Voters\"].str.replace(',', '').astype(float)\n",
    "exp_by_state[\"per_voter\"] = exp_by_state[\"State total\"] / exp_by_state[\"Voters\"]\n",
    "exp_by_state.sort_values(by='per_voter', ascending=False, inplace=True)\n",
    "exp_by_state.head(5).append(exp_by_state.tail(5))"
   ]
  },
  {
   "cell_type": "markdown",
   "metadata": {},
   "source": [
    "* By sorting the data by the expenditures per voter we can notice that there are some outliers.\n",
    "* The 'District of Columbia' is an outlier and a possible explanation is that some of the expenditures either didn't have state so they were registered in the capital or that many companies have their headquarters in the capital so the expenditures were registered there.\n",
    "* We will consider Maryland and Virginia outliers as well because the expenditures in these areas are unexpectedly higher than in other areas. One could argue that only the 'District of Columbia' should considered outlier and not the other two states, but there is not an absolutely correct answer.\n",
    "* So we are deleting the outlier states."
   ]
  },
  {
   "cell_type": "code",
   "execution_count": 47,
   "metadata": {},
   "outputs": [],
   "source": [
    "exp_by_state = exp_by_state[~(exp_by_state['Code'].isin(['DC', 'MD', 'VA']))]"
   ]
  },
  {
   "cell_type": "markdown",
   "metadata": {},
   "source": [
    "* We will now examine the relationship between the expenditures per voter and whether a state is swing state or not.\n",
    "* To do this we must first find which are the swing states. There are many different opinions on the internet about which states are swing states. However most of these opinions agree in most of their items. We chose the states listed in [this](https://www.politico.com/blogs/swing-states-2016-election/2016/06/what-are-the-swing-states-in-2016-list-224327) article"
   ]
  },
  {
   "cell_type": "code",
   "execution_count": 48,
   "metadata": {},
   "outputs": [],
   "source": [
    "swing_states = ['Colorado', 'Florida', 'Iowa', 'Michigan', 'Nevada', 'New Hampshire', 'North Carolina', \n",
    "                'Ohio', 'Pennsylvania', 'Virginia', 'Wisconsin']\n",
    "# swing_exp = all_exp_by_state['per_voter'].loc[all_exp_by_state['State'].isin(swing_states)]"
   ]
  },
  {
   "cell_type": "markdown",
   "metadata": {},
   "source": [
    "* To make our life easier we'll now add a column `state_type` to the `exp_by_state` dataframe that specifies whether a state is a swing state or not. The values in this column are either 'swing' or 'non-swing'."
   ]
  },
  {
   "cell_type": "code",
   "execution_count": 49,
   "metadata": {},
   "outputs": [],
   "source": [
    "exp_by_state['state_type'] = np.where(exp_by_state['State'].isin(swing_states), 'swing', 'non-swing')"
   ]
  },
  {
   "cell_type": "markdown",
   "metadata": {},
   "source": [
    "* And now we can use a group by to get the average expenditures per voter in the different kinds of states(swing and non-swing)"
   ]
  },
  {
   "cell_type": "code",
   "execution_count": 50,
   "metadata": {},
   "outputs": [
    {
     "data": {
      "text/html": [
       "<div>\n",
       "<style scoped>\n",
       "    .dataframe tbody tr th:only-of-type {\n",
       "        vertical-align: middle;\n",
       "    }\n",
       "\n",
       "    .dataframe tbody tr th {\n",
       "        vertical-align: top;\n",
       "    }\n",
       "\n",
       "    .dataframe thead th {\n",
       "        text-align: right;\n",
       "    }\n",
       "</style>\n",
       "<table border=\"1\" class=\"dataframe\">\n",
       "  <thead>\n",
       "    <tr style=\"text-align: right;\">\n",
       "      <th></th>\n",
       "      <th>Campaign expenditures per voter</th>\n",
       "    </tr>\n",
       "    <tr>\n",
       "      <th>state_type</th>\n",
       "      <th></th>\n",
       "    </tr>\n",
       "  </thead>\n",
       "  <tbody>\n",
       "    <tr>\n",
       "      <th>non-swing</th>\n",
       "      <td>2.477513</td>\n",
       "    </tr>\n",
       "    <tr>\n",
       "      <th>swing</th>\n",
       "      <td>4.094411</td>\n",
       "    </tr>\n",
       "  </tbody>\n",
       "</table>\n",
       "</div>"
      ],
      "text/plain": [
       "            Campaign expenditures per voter\n",
       "state_type                                 \n",
       "non-swing                          2.477513\n",
       "swing                              4.094411"
      ]
     },
     "execution_count": 50,
     "metadata": {},
     "output_type": "execute_result"
    }
   ],
   "source": [
    "mean_by_type_state_level = exp_by_state.groupby(\"state_type\")[\"per_voter\"].mean().to_frame()\n",
    "mean_by_type_state_level.rename(columns={\"per_voter\":\"Campaign expenditures per voter\"}, inplace=True)\n",
    "mean_by_type_state_level"
   ]
  },
  {
   "cell_type": "markdown",
   "metadata": {},
   "source": [
    "* Generally this way of calculating the mean expenditures per voter for swing and non-swing states has the problem that each state 'counts' the same independently of its population. Generally this shouldn't be done because this way we get a strange king of 'mean' that is not actually the mean expenditures per voter (for the two categories of states).\n",
    "* Here however it is not all that wrong because the smaller states don't count to the elections proportionately to their population. For example Alaska had 522679 eligible voters and 3 electoral votes and Kansas 2054025 eligible voters (almost 4 times more) but only 6 electoral votes (2 times more).\n",
    "* To calculate the actual means we need to calculate the total voters in swing states, the total voters in non-swing states, the total expenditures in swing states and the total expenditures in non-swing states and then to make two divisions."
   ]
  },
  {
   "cell_type": "code",
   "execution_count": 51,
   "metadata": {},
   "outputs": [],
   "source": [
    "mean_swing = exp_by_state['State total'].loc[exp_by_state['state_type']=='swing'].sum()/exp_by_state['Voters'].loc[exp_by_state['state_type']=='swing'].sum()\n",
    "mean_non_swing = exp_by_state['State total'].loc[exp_by_state['state_type']=='non-swing'].sum()/exp_by_state['Voters'].loc[exp_by_state['state_type']=='non-swing'].sum()"
   ]
  },
  {
   "cell_type": "code",
   "execution_count": 52,
   "metadata": {},
   "outputs": [
    {
     "data": {
      "text/plain": [
       "3.6371549427045844"
      ]
     },
     "execution_count": 52,
     "metadata": {},
     "output_type": "execute_result"
    }
   ],
   "source": [
    "mean_swing"
   ]
  },
  {
   "cell_type": "code",
   "execution_count": 53,
   "metadata": {},
   "outputs": [
    {
     "data": {
      "text/plain": [
       "2.971971417780239"
      ]
     },
     "execution_count": 53,
     "metadata": {},
     "output_type": "execute_result"
    }
   ],
   "source": [
    "mean_non_swing"
   ]
  },
  {
   "cell_type": "markdown",
   "metadata": {},
   "source": [
    "* As expected we see the expenditures per voter are more in swing states (with either way of doing the calculation)"
   ]
  },
  {
   "cell_type": "code",
   "execution_count": 54,
   "metadata": {
    "scrolled": false
   },
   "outputs": [
    {
     "data": {
      "text/plain": [
       "Text(28.695234736689812, 0.5, 'States')"
      ]
     },
     "execution_count": 54,
     "metadata": {},
     "output_type": "execute_result"
    },
    {
     "data": {
      "image/png": "[encoded data removed]",
      "text/plain": [
       "<Figure size 1383.38x864 with 1 Axes>"
      ]
     },
     "metadata": {
      "needs_background": "light"
     },
     "output_type": "display_data"
    }
   ],
   "source": [
    "import seaborn\n",
    "to_plot = exp_by_state[['State', 'per_voter', 'state_type']]\n",
    "fg = seaborn.FacetGrid(data=to_plot, hue='state_type', height=12, aspect=1.5)\n",
    "fg.map(plt.barh, 'State', 'per_voter').add_legend()\n",
    "plt.xlabel('Expenditures per voter')\n",
    "plt.ylabel('States')"
   ]
  },
  {
   "cell_type": "markdown",
   "metadata": {},
   "source": [
    "* The difference between swing states and non-swing states is visible in the diagram but it doesn't seem so big as the means we calculated indicate"
   ]
  },
  {
   "cell_type": "markdown",
   "metadata": {},
   "source": [
    "* We will now examine the expenditures not per voters but per electoral votes each state has, while making again a distinction between swing and non-swing states.\n",
    "* To do this we need to know how many electoral votes each state has. We will read this information from the file 'electors_by_state.txt' in the data folder. This file can be found [here](https://drive.google.com/drive/folders/1VXcVMTf5PFSqmtCxwdvSiLdARvfVAfCG?usp=sharing) and is the result of copy-pasting and editing by hand and by 'find and replace all' in a text editor. This is generally a bad practice, but for small and simple files such as this one it can be less time-consuming than using more complex techniques."
   ]
  },
  {
   "cell_type": "code",
   "execution_count": 55,
   "metadata": {},
   "outputs": [
    {
     "data": {
      "text/html": [
       "<div>\n",
       "<style scoped>\n",
       "    .dataframe tbody tr th:only-of-type {\n",
       "        vertical-align: middle;\n",
       "    }\n",
       "\n",
       "    .dataframe tbody tr th {\n",
       "        vertical-align: top;\n",
       "    }\n",
       "\n",
       "    .dataframe thead th {\n",
       "        text-align: right;\n",
       "    }\n",
       "</style>\n",
       "<table border=\"1\" class=\"dataframe\">\n",
       "  <thead>\n",
       "    <tr style=\"text-align: right;\">\n",
       "      <th></th>\n",
       "      <th>state</th>\n",
       "      <th>number of votes</th>\n",
       "    </tr>\n",
       "  </thead>\n",
       "  <tbody>\n",
       "    <tr>\n",
       "      <th>0</th>\n",
       "      <td>Alabama</td>\n",
       "      <td>9</td>\n",
       "    </tr>\n",
       "    <tr>\n",
       "      <th>1</th>\n",
       "      <td>Kentucky</td>\n",
       "      <td>8</td>\n",
       "    </tr>\n",
       "    <tr>\n",
       "      <th>2</th>\n",
       "      <td>North Dakota</td>\n",
       "      <td>3</td>\n",
       "    </tr>\n",
       "    <tr>\n",
       "      <th>3</th>\n",
       "      <td>Alaska</td>\n",
       "      <td>3</td>\n",
       "    </tr>\n",
       "    <tr>\n",
       "      <th>4</th>\n",
       "      <td>Louisiana</td>\n",
       "      <td>8</td>\n",
       "    </tr>\n",
       "  </tbody>\n",
       "</table>\n",
       "</div>"
      ],
      "text/plain": [
       "          state  number of votes\n",
       "0       Alabama                9\n",
       "1      Kentucky                8\n",
       "2  North Dakota                3\n",
       "3        Alaska                3\n",
       "4     Louisiana                8"
      ]
     },
     "execution_count": 55,
     "metadata": {},
     "output_type": "execute_result"
    }
   ],
   "source": [
    "elec_by_state =  pd.read_csv('data/electors_by_state.txt', sep=\",\", index_col=False)\n",
    "elec_by_state.head(5)"
   ]
  },
  {
   "cell_type": "markdown",
   "metadata": {},
   "source": [
    "* We add a new column with the expenditures per electoral vote:"
   ]
  },
  {
   "cell_type": "code",
   "execution_count": 56,
   "metadata": {},
   "outputs": [
    {
     "data": {
      "text/html": [
       "<div>\n",
       "<style scoped>\n",
       "    .dataframe tbody tr th:only-of-type {\n",
       "        vertical-align: middle;\n",
       "    }\n",
       "\n",
       "    .dataframe tbody tr th {\n",
       "        vertical-align: top;\n",
       "    }\n",
       "\n",
       "    .dataframe thead th {\n",
       "        text-align: right;\n",
       "    }\n",
       "</style>\n",
       "<table border=\"1\" class=\"dataframe\">\n",
       "  <thead>\n",
       "    <tr style=\"text-align: right;\">\n",
       "      <th></th>\n",
       "      <th>State total</th>\n",
       "      <th>State</th>\n",
       "      <th>Voters</th>\n",
       "      <th>Code</th>\n",
       "      <th>per_voter</th>\n",
       "      <th>state_type</th>\n",
       "      <th>electors</th>\n",
       "      <th>per_elector</th>\n",
       "    </tr>\n",
       "  </thead>\n",
       "  <tbody>\n",
       "    <tr>\n",
       "      <th>1</th>\n",
       "      <td>2.439773e+07</td>\n",
       "      <td>Iowa</td>\n",
       "      <td>2288536.0</td>\n",
       "      <td>IA</td>\n",
       "      <td>10.660847</td>\n",
       "      <td>swing</td>\n",
       "      <td>6</td>\n",
       "      <td>4.066289e+06</td>\n",
       "    </tr>\n",
       "    <tr>\n",
       "      <th>3</th>\n",
       "      <td>4.068914e+07</td>\n",
       "      <td>Massachusetts</td>\n",
       "      <td>4948028.0</td>\n",
       "      <td>MA</td>\n",
       "      <td>8.223303</td>\n",
       "      <td>non-swing</td>\n",
       "      <td>11</td>\n",
       "      <td>3.699012e+06</td>\n",
       "    </tr>\n",
       "    <tr>\n",
       "      <th>2</th>\n",
       "      <td>3.322340e+07</td>\n",
       "      <td>Colorado</td>\n",
       "      <td>3974405.0</td>\n",
       "      <td>CO</td>\n",
       "      <td>8.359340</td>\n",
       "      <td>swing</td>\n",
       "      <td>9</td>\n",
       "      <td>3.691489e+06</td>\n",
       "    </tr>\n",
       "    <tr>\n",
       "      <th>0</th>\n",
       "      <td>8.985659e+06</td>\n",
       "      <td>Delaware</td>\n",
       "      <td>691720.0</td>\n",
       "      <td>DE</td>\n",
       "      <td>12.990313</td>\n",
       "      <td>non-swing</td>\n",
       "      <td>3</td>\n",
       "      <td>2.995220e+06</td>\n",
       "    </tr>\n",
       "    <tr>\n",
       "      <th>4</th>\n",
       "      <td>5.805748e+07</td>\n",
       "      <td>Illinois</td>\n",
       "      <td>8985443.0</td>\n",
       "      <td>IL</td>\n",
       "      <td>6.461282</td>\n",
       "      <td>non-swing</td>\n",
       "      <td>20</td>\n",
       "      <td>2.902874e+06</td>\n",
       "    </tr>\n",
       "  </tbody>\n",
       "</table>\n",
       "</div>"
      ],
      "text/plain": [
       "    State total          State     Voters Code  per_voter state_type  \\\n",
       "1  2.439773e+07           Iowa  2288536.0   IA  10.660847      swing   \n",
       "3  4.068914e+07  Massachusetts  4948028.0   MA   8.223303  non-swing   \n",
       "2  3.322340e+07       Colorado  3974405.0   CO   8.359340      swing   \n",
       "0  8.985659e+06       Delaware   691720.0   DE  12.990313  non-swing   \n",
       "4  5.805748e+07       Illinois  8985443.0   IL   6.461282  non-swing   \n",
       "\n",
       "   electors   per_elector  \n",
       "1         6  4.066289e+06  \n",
       "3        11  3.699012e+06  \n",
       "2         9  3.691489e+06  \n",
       "0         3  2.995220e+06  \n",
       "4        20  2.902874e+06  "
      ]
     },
     "execution_count": 56,
     "metadata": {},
     "output_type": "execute_result"
    }
   ],
   "source": [
    "elec_by_state.rename(columns={'state':'State', 'number of votes':'electors'}, inplace=True)\n",
    "exp_by_state = pd.merge(exp_by_state,\n",
    "                        elec_by_state,\n",
    "                        on='State',\n",
    "                        how='inner')\n",
    "exp_by_state[\"per_elector\"] = exp_by_state[\"State total\"] / exp_by_state[\"electors\"]\n",
    "exp_by_state.sort_values(by='per_elector', ascending=False, inplace=True)\n",
    "exp_by_state.head(5)"
   ]
  },
  {
   "cell_type": "markdown",
   "metadata": {},
   "source": [
    "* And as we did before we calculate the two different kinds of means."
   ]
  },
  {
   "cell_type": "code",
   "execution_count": 57,
   "metadata": {},
   "outputs": [
    {
     "data": {
      "text/html": [
       "<div>\n",
       "<style scoped>\n",
       "    .dataframe tbody tr th:only-of-type {\n",
       "        vertical-align: middle;\n",
       "    }\n",
       "\n",
       "    .dataframe tbody tr th {\n",
       "        vertical-align: top;\n",
       "    }\n",
       "\n",
       "    .dataframe thead th {\n",
       "        text-align: right;\n",
       "    }\n",
       "</style>\n",
       "<table border=\"1\" class=\"dataframe\">\n",
       "  <thead>\n",
       "    <tr style=\"text-align: right;\">\n",
       "      <th></th>\n",
       "      <th>Campaign expenditures per elector</th>\n",
       "    </tr>\n",
       "    <tr>\n",
       "      <th>state_type</th>\n",
       "      <th></th>\n",
       "    </tr>\n",
       "  </thead>\n",
       "  <tbody>\n",
       "    <tr>\n",
       "      <th>non-swing</th>\n",
       "      <td>8.881385e+05</td>\n",
       "    </tr>\n",
       "    <tr>\n",
       "      <th>swing</th>\n",
       "      <td>1.729608e+06</td>\n",
       "    </tr>\n",
       "  </tbody>\n",
       "</table>\n",
       "</div>"
      ],
      "text/plain": [
       "            Campaign expenditures per elector\n",
       "state_type                                   \n",
       "non-swing                        8.881385e+05\n",
       "swing                            1.729608e+06"
      ]
     },
     "execution_count": 57,
     "metadata": {},
     "output_type": "execute_result"
    }
   ],
   "source": [
    "mean_by_type_state_level = exp_by_state.groupby(\"state_type\")[\"per_elector\"].mean().to_frame()\n",
    "mean_by_type_state_level.rename(columns={\"per_elector\":\"Campaign expenditures per elector\"}, inplace=True)\n",
    "mean_by_type_state_level"
   ]
  },
  {
   "cell_type": "code",
   "execution_count": 58,
   "metadata": {},
   "outputs": [],
   "source": [
    "mean_swing = exp_by_state['State total'].loc[exp_by_state['state_type']=='swing'].sum()/exp_by_state['electors'].loc[exp_by_state['state_type']=='swing'].sum()\n",
    "mean_non_swing = exp_by_state['State total'].loc[exp_by_state['state_type']=='non-swing'].sum()/exp_by_state['electors'].loc[exp_by_state['state_type']=='non-swing'].sum()"
   ]
  },
  {
   "cell_type": "code",
   "execution_count": 59,
   "metadata": {},
   "outputs": [
    {
     "data": {
      "text/plain": [
       "1677864.8890977453"
      ]
     },
     "execution_count": 59,
     "metadata": {},
     "output_type": "execute_result"
    }
   ],
   "source": [
    "mean_swing"
   ]
  },
  {
   "cell_type": "code",
   "execution_count": 60,
   "metadata": {},
   "outputs": [
    {
     "data": {
      "text/plain": [
       "1210147.341530358"
      ]
     },
     "execution_count": 60,
     "metadata": {},
     "output_type": "execute_result"
    }
   ],
   "source": [
    "mean_non_swing"
   ]
  },
  {
   "cell_type": "markdown",
   "metadata": {},
   "source": [
    "* And we plot this information as well:"
   ]
  },
  {
   "cell_type": "code",
   "execution_count": 61,
   "metadata": {},
   "outputs": [
    {
     "data": {
      "text/plain": [
       "Text(29.22894422743056, 0.5, 'States')"
      ]
     },
     "execution_count": 61,
     "metadata": {},
     "output_type": "execute_result"
    },
    {
     "data": {
      "image/png": "[encoded data removed]",
      "text/plain": [
       "<Figure size 1383.38x864 with 1 Axes>"
      ]
     },
     "metadata": {
      "needs_background": "light"
     },
     "output_type": "display_data"
    }
   ],
   "source": [
    "to_plot = exp_by_state[['State', 'per_elector', 'state_type']]\n",
    "fg = seaborn.FacetGrid(data=to_plot, hue='state_type', height=12, aspect=1.5)\n",
    "fg.map(plt.barh, 'State', 'per_elector').add_legend()\n",
    "plt.xlabel('Expenditures per electoral votes')\n",
    "plt.ylabel('States')"
   ]
  },
  {
   "cell_type": "markdown",
   "metadata": {},
   "source": [
    "* As with expenditures per voter the difference is visible between swing and non-swing states, but now it doesn't seem so important as the numbers said.\n",
    "* So actually there was no big difference in expenditures per voters vs expenditures per electors."
   ]
  },
  {
   "cell_type": "markdown",
   "metadata": {},
   "source": [
    "* We will now take a look at the situation for each of the two main candidates' campaign.\n",
    "* First for Trump:"
   ]
  },
  {
   "cell_type": "code",
   "execution_count": 62,
   "metadata": {},
   "outputs": [
    {
     "data": {
      "text/html": [
       "<div>\n",
       "<style scoped>\n",
       "    .dataframe tbody tr th:only-of-type {\n",
       "        vertical-align: middle;\n",
       "    }\n",
       "\n",
       "    .dataframe tbody tr th {\n",
       "        vertical-align: top;\n",
       "    }\n",
       "\n",
       "    .dataframe thead th {\n",
       "        text-align: right;\n",
       "    }\n",
       "</style>\n",
       "<table border=\"1\" class=\"dataframe\">\n",
       "  <thead>\n",
       "    <tr style=\"text-align: right;\">\n",
       "      <th></th>\n",
       "      <th>Trump campaign expenditures per voter</th>\n",
       "    </tr>\n",
       "    <tr>\n",
       "      <th>state_type</th>\n",
       "      <th></th>\n",
       "    </tr>\n",
       "  </thead>\n",
       "  <tbody>\n",
       "    <tr>\n",
       "      <th>non-swing</th>\n",
       "      <td>0.906369</td>\n",
       "    </tr>\n",
       "    <tr>\n",
       "      <th>swing</th>\n",
       "      <td>0.943246</td>\n",
       "    </tr>\n",
       "  </tbody>\n",
       "</table>\n",
       "</div>"
      ],
      "text/plain": [
       "            Trump campaign expenditures per voter\n",
       "state_type                                       \n",
       "non-swing                                0.906369\n",
       "swing                                    0.943246"
      ]
     },
     "execution_count": 62,
     "metadata": {},
     "output_type": "execute_result"
    }
   ],
   "source": [
    "exp_by_state_trump = all_exp[(all_exp['STATE'].isin(voters_by_state[\"Code\"].tolist())) & \n",
    "                       (all_exp['ACTUAL_CAND']=='Donald Trump')]\\\n",
    "                       .groupby(\"STATE\")[\"TRANSACTION_AMT\"].sum()\\\n",
    "                       .sort_values(ascending=False).to_frame()\n",
    "exp_by_state_trump.rename(columns={\"TRANSACTION_AMT\": \"State total\"}, inplace=True)\n",
    "exp_by_state_trump = pd.merge(exp_by_state_trump,\n",
    "                        voters_by_state,\n",
    "                        left_index=True,\n",
    "                        right_on=\"Code\",\n",
    "                        how='inner')\n",
    "exp_by_state_trump[\"Voters\"] = exp_by_state_trump[\"Voters\"].str.replace(',', '').astype(float)\n",
    "exp_by_state_trump[\"per_voter\"] = exp_by_state_trump[\"State total\"] / exp_by_state_trump[\"Voters\"]\n",
    "exp_by_state_trump.sort_values(by='per_voter', ascending=False, inplace=True)\n",
    "exp_by_state_trump = exp_by_state_trump[~(exp_by_state_trump['Code'].isin(['DC', 'MD', 'VA']))]\n",
    "exp_by_state_trump['state_type'] = np.where(exp_by_state_trump['State'].isin(swing_states), 'swing', 'non-swing')\n",
    "mean_by_type_state_level_trump = exp_by_state_trump.groupby(\"state_type\")[\"per_voter\"].mean().to_frame()\n",
    "mean_by_type_state_level_trump.rename(columns={\"per_voter\":\"Trump campaign expenditures per voter\"}, inplace=True)\n",
    "mean_by_type_state_level_trump"
   ]
  },
  {
   "cell_type": "markdown",
   "metadata": {},
   "source": [
    "* And then for Clinton:"
   ]
  },
  {
   "cell_type": "code",
   "execution_count": 63,
   "metadata": {},
   "outputs": [
    {
     "data": {
      "text/html": [
       "<div>\n",
       "<style scoped>\n",
       "    .dataframe tbody tr th:only-of-type {\n",
       "        vertical-align: middle;\n",
       "    }\n",
       "\n",
       "    .dataframe tbody tr th {\n",
       "        vertical-align: top;\n",
       "    }\n",
       "\n",
       "    .dataframe thead th {\n",
       "        text-align: right;\n",
       "    }\n",
       "</style>\n",
       "<table border=\"1\" class=\"dataframe\">\n",
       "  <thead>\n",
       "    <tr style=\"text-align: right;\">\n",
       "      <th></th>\n",
       "      <th>Clinton campaign expenditures per voter</th>\n",
       "    </tr>\n",
       "    <tr>\n",
       "      <th>state_type</th>\n",
       "      <th></th>\n",
       "    </tr>\n",
       "  </thead>\n",
       "  <tbody>\n",
       "    <tr>\n",
       "      <th>non-swing</th>\n",
       "      <td>1.571144</td>\n",
       "    </tr>\n",
       "    <tr>\n",
       "      <th>swing</th>\n",
       "      <td>3.151165</td>\n",
       "    </tr>\n",
       "  </tbody>\n",
       "</table>\n",
       "</div>"
      ],
      "text/plain": [
       "            Clinton campaign expenditures per voter\n",
       "state_type                                         \n",
       "non-swing                                  1.571144\n",
       "swing                                      3.151165"
      ]
     },
     "execution_count": 63,
     "metadata": {},
     "output_type": "execute_result"
    }
   ],
   "source": [
    "exp_by_state_clinton = all_exp[(all_exp['STATE'].isin(voters_by_state[\"Code\"].tolist())) & \n",
    "                       (all_exp['ACTUAL_CAND']=='Hillary Clinton')]\\\n",
    "                       .groupby(\"STATE\")[\"TRANSACTION_AMT\"].sum()\\\n",
    "                       .sort_values(ascending=False).to_frame()\n",
    "exp_by_state_clinton.rename(columns={\"TRANSACTION_AMT\": \"State total\"}, inplace=True)\n",
    "exp_by_state_clinton = pd.merge(exp_by_state_clinton,\n",
    "                        voters_by_state,\n",
    "                        left_index=True,\n",
    "                        right_on=\"Code\",\n",
    "                        how='inner')\n",
    "exp_by_state_clinton[\"Voters\"] = exp_by_state_clinton[\"Voters\"].str.replace(',', '').astype(float)\n",
    "exp_by_state_clinton[\"per_voter\"] = exp_by_state_clinton[\"State total\"] / exp_by_state_clinton[\"Voters\"]\n",
    "exp_by_state_clinton.sort_values(by='per_voter', ascending=False, inplace=True)\n",
    "exp_by_state_clinton = exp_by_state_clinton[~(exp_by_state_clinton['Code'].isin(['DC', 'MD', 'VA']))]\n",
    "exp_by_state_clinton['state_type'] = np.where(exp_by_state_clinton['State'].isin(swing_states), 'swing', 'non-swing')\n",
    "mean_by_type_state_level_clinton = exp_by_state_clinton.groupby(\"state_type\")[\"per_voter\"].mean().to_frame()\n",
    "mean_by_type_state_level_clinton.rename(columns={\"per_voter\":\"Clinton campaign expenditures per voter\"}, inplace=True)\n",
    "mean_by_type_state_level_clinton"
   ]
  },
  {
   "cell_type": "markdown",
   "metadata": {},
   "source": [
    "## Comments on results of question 5\n",
    "\n",
    "* As expected the campaign expenditures per voter were more on swing states.\n",
    "* What we didn't expect however was that Trump's campaign expenditures per voter would be almost the same in swing and non swing states."
   ]
  },
  {
   "cell_type": "code",
   "execution_count": null,
   "metadata": {},
   "outputs": [],
   "source": []
  }
 ],
 "metadata": {
  "celltoolbar": "Slideshow",
  "kernelspec": {
   "display_name": "Python 3",
   "language": "python",
   "name": "python3"
  },
  "language_info": {
   "codemirror_mode": {
    "name": "ipython",
    "version": 3
   },
   "file_extension": ".py",
   "mimetype": "text/x-python",
   "name": "python",
   "nbconvert_exporter": "python",
   "pygments_lexer": "ipython3",
   "version": "3.7.3"
  }
 },
 "nbformat": 4,
 "nbformat_minor": 1
}
